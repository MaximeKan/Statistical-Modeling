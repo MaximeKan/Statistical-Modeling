{
  "nbformat": 4,
  "nbformat_minor": 0,
  "metadata": {
    "colab": {
      "name": "Actors_movie_counts.ipynb",
      "version": "0.3.2",
      "provenance": [],
      "collapsed_sections": []
    },
    "kernelspec": {
      "name": "python3",
      "display_name": "Python 3"
    },
    "accelerator": "GPU"
  },
  "cells": [
    {
      "metadata": {
        "id": "rFSobhNfvwoU",
        "colab_type": "text"
      },
      "cell_type": "markdown",
      "source": [
        "# Estimating how active actors will be"
      ]
    },
    {
      "metadata": {
        "id": "4nMo14e7SyAL",
        "colab_type": "code",
        "colab": {}
      },
      "cell_type": "code",
      "source": [
        "import pandas as pd\n",
        "import numpy as np\n",
        "import matplotlib.pyplot as plt\n",
        "%matplotlib inline"
      ],
      "execution_count": 0,
      "outputs": []
    },
    {
      "metadata": {
        "id": "9Vs31omkS3pn",
        "colab_type": "code",
        "colab": {}
      },
      "cell_type": "code",
      "source": [
        "if int(pd.__version__.split('.')[1]) < 24:\n",
        "  ! pip install pandas --upgrade"
      ],
      "execution_count": 0,
      "outputs": []
    },
    {
      "metadata": {
        "id": "OTdous9OkEMC",
        "colab_type": "code",
        "outputId": "07d6b41c-029a-4184-acbb-f7f2efccf202",
        "colab": {
          "base_uri": "https://localhost:8080/",
          "height": 578
        }
      },
      "cell_type": "code",
      "source": [
        "! wget \"https://datasets.imdbws.com/title.principals.tsv.gz\"\n",
        "! wget \"https://datasets.imdbws.com/title.basics.tsv.gz\"\n",
        "! wget \"https://datasets.imdbws.com/name.basics.tsv.gz\""
      ],
      "execution_count": 3,
      "outputs": [
        {
          "output_type": "stream",
          "text": [
            "--2019-04-07 17:54:25--  https://datasets.imdbws.com/title.principals.tsv.gz\n",
            "Resolving datasets.imdbws.com (datasets.imdbws.com)... 143.204.181.54, 143.204.181.48, 143.204.181.2, ...\n",
            "Connecting to datasets.imdbws.com (datasets.imdbws.com)|143.204.181.54|:443... connected.\n",
            "HTTP request sent, awaiting response... 200 OK\n",
            "Length: 280869884 (268M) [binary/octet-stream]\n",
            "Saving to: ‘title.principals.tsv.gz.1’\n",
            "\n",
            "title.principals.ts 100%[===================>] 267.86M  19.7MB/s    in 14s     \n",
            "\n",
            "2019-04-07 17:54:39 (18.6 MB/s) - ‘title.principals.tsv.gz.1’ saved [280869884/280869884]\n",
            "\n",
            "--2019-04-07 17:54:40--  https://datasets.imdbws.com/title.basics.tsv.gz\n",
            "Resolving datasets.imdbws.com (datasets.imdbws.com)... 143.204.181.54, 143.204.181.48, 143.204.181.2, ...\n",
            "Connecting to datasets.imdbws.com (datasets.imdbws.com)|143.204.181.54|:443... connected.\n",
            "HTTP request sent, awaiting response... 200 OK\n",
            "Length: 103416145 (99M) [binary/octet-stream]\n",
            "Saving to: ‘title.basics.tsv.gz’\n",
            "\n",
            "title.basics.tsv.gz 100%[===================>]  98.62M  46.6MB/s    in 2.1s    \n",
            "\n",
            "2019-04-07 17:54:43 (46.6 MB/s) - ‘title.basics.tsv.gz’ saved [103416145/103416145]\n",
            "\n",
            "--2019-04-07 17:54:44--  https://datasets.imdbws.com/name.basics.tsv.gz\n",
            "Resolving datasets.imdbws.com (datasets.imdbws.com)... 143.204.181.54, 143.204.181.48, 143.204.181.2, ...\n",
            "Connecting to datasets.imdbws.com (datasets.imdbws.com)|143.204.181.54|:443... connected.\n",
            "HTTP request sent, awaiting response... 200 OK\n",
            "Length: 181143082 (173M) [binary/octet-stream]\n",
            "Saving to: ‘name.basics.tsv.gz’\n",
            "\n",
            "name.basics.tsv.gz  100%[===================>] 172.75M  53.1MB/s    in 3.3s    \n",
            "\n",
            "2019-04-07 17:54:48 (53.1 MB/s) - ‘name.basics.tsv.gz’ saved [181143082/181143082]\n",
            "\n"
          ],
          "name": "stdout"
        }
      ]
    },
    {
      "metadata": {
        "id": "sEsMoqTTlKI1",
        "colab_type": "code",
        "colab": {}
      },
      "cell_type": "code",
      "source": [
        "! gunzip title.principals.tsv.gz\n",
        "! gunzip title.basics.tsv.gz\n",
        "! gunzip name.basics.tsv.gz"
      ],
      "execution_count": 0,
      "outputs": []
    },
    {
      "metadata": {
        "id": "PDXIzxlBloYV",
        "colab_type": "code",
        "colab": {}
      },
      "cell_type": "code",
      "source": [
        "cast = pd.read_csv('title.principals.tsv', sep='\\t', na_values = \"\\\\N\", keep_default_na = False, \n",
        "                   usecols = ['tconst','ordering','nconst','category','job'],\n",
        "                   dtype = {'tconst': str, 'ordering': 'Int64', 'nconst': str, 'category': str, 'job': str})\n",
        "titles = pd.read_csv('title.basics.tsv', sep='\\t', na_values = \"\\\\N\", keep_default_na = False,\n",
        "                     usecols = ['tconst','primaryTitle','startYear'],\n",
        "                    dtype = {'tconst': str, 'primaryTitle': str, 'startYear': 'Int64'})\n",
        "names = pd.read_csv('name.basics.tsv', sep='\\t', na_values = \"\\\\N\", keep_default_na = False,\n",
        "                    usecols = ['nconst','primaryName','birthYear','deathYear'],\n",
        "                   dtype = {'nconst': str, 'primaryName': str, 'birthYear': 'Int64', 'deathYear': 'Int64'})"
      ],
      "execution_count": 0,
      "outputs": []
    },
    {
      "metadata": {
        "id": "DXH4aYcm_Qgi",
        "colab_type": "code",
        "colab": {}
      },
      "cell_type": "code",
      "source": [
        "startYear = 1950\n",
        "endYear = 1960"
      ],
      "execution_count": 0,
      "outputs": []
    },
    {
      "metadata": {
        "id": "2nIfHSvShrCI",
        "colab_type": "code",
        "outputId": "3e40c9b8-a972-49e8-a9aa-0bc5dd7c3024",
        "colab": {
          "base_uri": "https://localhost:8080/",
          "height": 204
        }
      },
      "cell_type": "code",
      "source": [
        "cast.head()"
      ],
      "execution_count": 6,
      "outputs": [
        {
          "output_type": "execute_result",
          "data": {
            "text/html": [
              "<div>\n",
              "<style scoped>\n",
              "    .dataframe tbody tr th:only-of-type {\n",
              "        vertical-align: middle;\n",
              "    }\n",
              "\n",
              "    .dataframe tbody tr th {\n",
              "        vertical-align: top;\n",
              "    }\n",
              "\n",
              "    .dataframe thead th {\n",
              "        text-align: right;\n",
              "    }\n",
              "</style>\n",
              "<table border=\"1\" class=\"dataframe\">\n",
              "  <thead>\n",
              "    <tr style=\"text-align: right;\">\n",
              "      <th></th>\n",
              "      <th>tconst</th>\n",
              "      <th>ordering</th>\n",
              "      <th>nconst</th>\n",
              "      <th>category</th>\n",
              "      <th>job</th>\n",
              "    </tr>\n",
              "  </thead>\n",
              "  <tbody>\n",
              "    <tr>\n",
              "      <th>0</th>\n",
              "      <td>tt0000001</td>\n",
              "      <td>1</td>\n",
              "      <td>nm1588970</td>\n",
              "      <td>self</td>\n",
              "      <td>NaN</td>\n",
              "    </tr>\n",
              "    <tr>\n",
              "      <th>1</th>\n",
              "      <td>tt0000001</td>\n",
              "      <td>2</td>\n",
              "      <td>nm0005690</td>\n",
              "      <td>director</td>\n",
              "      <td>NaN</td>\n",
              "    </tr>\n",
              "    <tr>\n",
              "      <th>2</th>\n",
              "      <td>tt0000001</td>\n",
              "      <td>3</td>\n",
              "      <td>nm0374658</td>\n",
              "      <td>cinematographer</td>\n",
              "      <td>director of photography</td>\n",
              "    </tr>\n",
              "    <tr>\n",
              "      <th>3</th>\n",
              "      <td>tt0000002</td>\n",
              "      <td>1</td>\n",
              "      <td>nm0721526</td>\n",
              "      <td>director</td>\n",
              "      <td>NaN</td>\n",
              "    </tr>\n",
              "    <tr>\n",
              "      <th>4</th>\n",
              "      <td>tt0000002</td>\n",
              "      <td>2</td>\n",
              "      <td>nm1335271</td>\n",
              "      <td>composer</td>\n",
              "      <td>NaN</td>\n",
              "    </tr>\n",
              "  </tbody>\n",
              "</table>\n",
              "</div>"
            ],
            "text/plain": [
              "      tconst  ordering     nconst         category                      job\n",
              "0  tt0000001         1  nm1588970             self                      NaN\n",
              "1  tt0000001         2  nm0005690         director                      NaN\n",
              "2  tt0000001         3  nm0374658  cinematographer  director of photography\n",
              "3  tt0000002         1  nm0721526         director                      NaN\n",
              "4  tt0000002         2  nm1335271         composer                      NaN"
            ]
          },
          "metadata": {
            "tags": []
          },
          "execution_count": 6
        }
      ]
    },
    {
      "metadata": {
        "id": "ZsGmXSGCzQbX",
        "colab_type": "code",
        "outputId": "59e780e0-ffd9-4ff6-db99-846c8c19af05",
        "colab": {
          "base_uri": "https://localhost:8080/",
          "height": 204
        }
      },
      "cell_type": "code",
      "source": [
        "titles.head()"
      ],
      "execution_count": 7,
      "outputs": [
        {
          "output_type": "execute_result",
          "data": {
            "text/html": [
              "<div>\n",
              "<style scoped>\n",
              "    .dataframe tbody tr th:only-of-type {\n",
              "        vertical-align: middle;\n",
              "    }\n",
              "\n",
              "    .dataframe tbody tr th {\n",
              "        vertical-align: top;\n",
              "    }\n",
              "\n",
              "    .dataframe thead th {\n",
              "        text-align: right;\n",
              "    }\n",
              "</style>\n",
              "<table border=\"1\" class=\"dataframe\">\n",
              "  <thead>\n",
              "    <tr style=\"text-align: right;\">\n",
              "      <th></th>\n",
              "      <th>tconst</th>\n",
              "      <th>primaryTitle</th>\n",
              "      <th>startYear</th>\n",
              "    </tr>\n",
              "  </thead>\n",
              "  <tbody>\n",
              "    <tr>\n",
              "      <th>0</th>\n",
              "      <td>tt0000001</td>\n",
              "      <td>Carmencita</td>\n",
              "      <td>1894</td>\n",
              "    </tr>\n",
              "    <tr>\n",
              "      <th>1</th>\n",
              "      <td>tt0000002</td>\n",
              "      <td>Le clown et ses chiens</td>\n",
              "      <td>1892</td>\n",
              "    </tr>\n",
              "    <tr>\n",
              "      <th>2</th>\n",
              "      <td>tt0000003</td>\n",
              "      <td>Pauvre Pierrot</td>\n",
              "      <td>1892</td>\n",
              "    </tr>\n",
              "    <tr>\n",
              "      <th>3</th>\n",
              "      <td>tt0000004</td>\n",
              "      <td>Un bon bock</td>\n",
              "      <td>1892</td>\n",
              "    </tr>\n",
              "    <tr>\n",
              "      <th>4</th>\n",
              "      <td>tt0000005</td>\n",
              "      <td>Blacksmith Scene</td>\n",
              "      <td>1893</td>\n",
              "    </tr>\n",
              "  </tbody>\n",
              "</table>\n",
              "</div>"
            ],
            "text/plain": [
              "      tconst            primaryTitle  startYear\n",
              "0  tt0000001              Carmencita       1894\n",
              "1  tt0000002  Le clown et ses chiens       1892\n",
              "2  tt0000003          Pauvre Pierrot       1892\n",
              "3  tt0000004             Un bon bock       1892\n",
              "4  tt0000005        Blacksmith Scene       1893"
            ]
          },
          "metadata": {
            "tags": []
          },
          "execution_count": 7
        }
      ]
    },
    {
      "metadata": {
        "id": "kTg_Ywt8zSPx",
        "colab_type": "code",
        "outputId": "3845ff5f-7511-40f6-bb2a-198ee1e05726",
        "colab": {
          "base_uri": "https://localhost:8080/",
          "height": 204
        }
      },
      "cell_type": "code",
      "source": [
        "names.head()"
      ],
      "execution_count": 8,
      "outputs": [
        {
          "output_type": "execute_result",
          "data": {
            "text/html": [
              "<div>\n",
              "<style scoped>\n",
              "    .dataframe tbody tr th:only-of-type {\n",
              "        vertical-align: middle;\n",
              "    }\n",
              "\n",
              "    .dataframe tbody tr th {\n",
              "        vertical-align: top;\n",
              "    }\n",
              "\n",
              "    .dataframe thead th {\n",
              "        text-align: right;\n",
              "    }\n",
              "</style>\n",
              "<table border=\"1\" class=\"dataframe\">\n",
              "  <thead>\n",
              "    <tr style=\"text-align: right;\">\n",
              "      <th></th>\n",
              "      <th>nconst</th>\n",
              "      <th>primaryName</th>\n",
              "      <th>birthYear</th>\n",
              "      <th>deathYear</th>\n",
              "    </tr>\n",
              "  </thead>\n",
              "  <tbody>\n",
              "    <tr>\n",
              "      <th>0</th>\n",
              "      <td>nm0000001</td>\n",
              "      <td>Fred Astaire</td>\n",
              "      <td>1899</td>\n",
              "      <td>1987</td>\n",
              "    </tr>\n",
              "    <tr>\n",
              "      <th>1</th>\n",
              "      <td>nm0000002</td>\n",
              "      <td>Lauren Bacall</td>\n",
              "      <td>1924</td>\n",
              "      <td>2014</td>\n",
              "    </tr>\n",
              "    <tr>\n",
              "      <th>2</th>\n",
              "      <td>nm0000003</td>\n",
              "      <td>Brigitte Bardot</td>\n",
              "      <td>1934</td>\n",
              "      <td>NaN</td>\n",
              "    </tr>\n",
              "    <tr>\n",
              "      <th>3</th>\n",
              "      <td>nm0000004</td>\n",
              "      <td>John Belushi</td>\n",
              "      <td>1949</td>\n",
              "      <td>1982</td>\n",
              "    </tr>\n",
              "    <tr>\n",
              "      <th>4</th>\n",
              "      <td>nm0000005</td>\n",
              "      <td>Ingmar Bergman</td>\n",
              "      <td>1918</td>\n",
              "      <td>2007</td>\n",
              "    </tr>\n",
              "  </tbody>\n",
              "</table>\n",
              "</div>"
            ],
            "text/plain": [
              "      nconst      primaryName  birthYear  deathYear\n",
              "0  nm0000001     Fred Astaire       1899       1987\n",
              "1  nm0000002    Lauren Bacall       1924       2014\n",
              "2  nm0000003  Brigitte Bardot       1934        NaN\n",
              "3  nm0000004     John Belushi       1949       1982\n",
              "4  nm0000005   Ingmar Bergman       1918       2007"
            ]
          },
          "metadata": {
            "tags": []
          },
          "execution_count": 8
        }
      ]
    },
    {
      "metadata": {
        "id": "FfsJlQtRo67e",
        "colab_type": "code",
        "colab": {}
      },
      "cell_type": "code",
      "source": [
        "actors = [\"Lauren Bacall\", \"Cary Grant\", \"Ingrid Bergman\", \"James Stewart\"]"
      ],
      "execution_count": 0,
      "outputs": []
    },
    {
      "metadata": {
        "id": "9-Q11jtF5WeS",
        "colab_type": "code",
        "colab": {}
      },
      "cell_type": "code",
      "source": [
        "names_actors = names[names.primaryName.isin(actors)].head(len(actors))"
      ],
      "execution_count": 0,
      "outputs": []
    },
    {
      "metadata": {
        "id": "Ov-Fi_f8_S6p",
        "colab_type": "code",
        "colab": {}
      },
      "cell_type": "code",
      "source": [
        "names_actors = names_actors[names_actors.deathYear >= endYear]"
      ],
      "execution_count": 0,
      "outputs": []
    },
    {
      "metadata": {
        "id": "FUdkSLBE5qhL",
        "colab_type": "code",
        "outputId": "731bf7c4-a445-4f00-a568-1bded954672a",
        "colab": {
          "base_uri": "https://localhost:8080/",
          "height": 173
        }
      },
      "cell_type": "code",
      "source": [
        "names_actors"
      ],
      "execution_count": 31,
      "outputs": [
        {
          "output_type": "execute_result",
          "data": {
            "text/html": [
              "<div>\n",
              "<style scoped>\n",
              "    .dataframe tbody tr th:only-of-type {\n",
              "        vertical-align: middle;\n",
              "    }\n",
              "\n",
              "    .dataframe tbody tr th {\n",
              "        vertical-align: top;\n",
              "    }\n",
              "\n",
              "    .dataframe thead th {\n",
              "        text-align: right;\n",
              "    }\n",
              "</style>\n",
              "<table border=\"1\" class=\"dataframe\">\n",
              "  <thead>\n",
              "    <tr style=\"text-align: right;\">\n",
              "      <th></th>\n",
              "      <th>nconst</th>\n",
              "      <th>primaryName</th>\n",
              "      <th>birthYear</th>\n",
              "      <th>deathYear</th>\n",
              "    </tr>\n",
              "  </thead>\n",
              "  <tbody>\n",
              "    <tr>\n",
              "      <th>1</th>\n",
              "      <td>nm0000002</td>\n",
              "      <td>Lauren Bacall</td>\n",
              "      <td>1924</td>\n",
              "      <td>2014</td>\n",
              "    </tr>\n",
              "    <tr>\n",
              "      <th>5</th>\n",
              "      <td>nm0000006</td>\n",
              "      <td>Ingrid Bergman</td>\n",
              "      <td>1915</td>\n",
              "      <td>1982</td>\n",
              "    </tr>\n",
              "    <tr>\n",
              "      <th>25</th>\n",
              "      <td>nm0000026</td>\n",
              "      <td>Cary Grant</td>\n",
              "      <td>1904</td>\n",
              "      <td>1986</td>\n",
              "    </tr>\n",
              "    <tr>\n",
              "      <th>70</th>\n",
              "      <td>nm0000071</td>\n",
              "      <td>James Stewart</td>\n",
              "      <td>1908</td>\n",
              "      <td>1997</td>\n",
              "    </tr>\n",
              "  </tbody>\n",
              "</table>\n",
              "</div>"
            ],
            "text/plain": [
              "       nconst     primaryName  birthYear  deathYear\n",
              "1   nm0000002   Lauren Bacall       1924       2014\n",
              "5   nm0000006  Ingrid Bergman       1915       1982\n",
              "25  nm0000026      Cary Grant       1904       1986\n",
              "70  nm0000071   James Stewart       1908       1997"
            ]
          },
          "metadata": {
            "tags": []
          },
          "execution_count": 31
        }
      ]
    },
    {
      "metadata": {
        "id": "l5UQU7S959oQ",
        "colab_type": "code",
        "colab": {}
      },
      "cell_type": "code",
      "source": [
        "cast_actors = pd.merge(names_actors, cast, on = 'nconst')"
      ],
      "execution_count": 0,
      "outputs": []
    },
    {
      "metadata": {
        "id": "uMb8tlak8xp0",
        "colab_type": "code",
        "colab": {}
      },
      "cell_type": "code",
      "source": [
        "movie_actors = pd.merge(cast_actors, titles, on = 'tconst')"
      ],
      "execution_count": 0,
      "outputs": []
    },
    {
      "metadata": {
        "id": "n819oAuZ8zW1",
        "colab_type": "code",
        "colab": {}
      },
      "cell_type": "code",
      "source": [
        "movie_list = movie_actors[['primaryName','birthYear','deathYear','category','primaryTitle','startYear']]"
      ],
      "execution_count": 0,
      "outputs": []
    },
    {
      "metadata": {
        "id": "urg0qkxivOt8",
        "colab_type": "code",
        "colab": {}
      },
      "cell_type": "code",
      "source": [
        "movie_list = movie_list[movie_list.category.isin(['actor','actress'])]"
      ],
      "execution_count": 0,
      "outputs": []
    },
    {
      "metadata": {
        "id": "ciR0Z_G2vsMG",
        "colab_type": "code",
        "outputId": "4bdc7c23-8e08-44de-8ca0-6636ab298339",
        "colab": {
          "base_uri": "https://localhost:8080/",
          "height": 204
        }
      },
      "cell_type": "code",
      "source": [
        "movie_list.head()"
      ],
      "execution_count": 28,
      "outputs": [
        {
          "output_type": "execute_result",
          "data": {
            "text/html": [
              "<div>\n",
              "<style scoped>\n",
              "    .dataframe tbody tr th:only-of-type {\n",
              "        vertical-align: middle;\n",
              "    }\n",
              "\n",
              "    .dataframe tbody tr th {\n",
              "        vertical-align: top;\n",
              "    }\n",
              "\n",
              "    .dataframe thead th {\n",
              "        text-align: right;\n",
              "    }\n",
              "</style>\n",
              "<table border=\"1\" class=\"dataframe\">\n",
              "  <thead>\n",
              "    <tr style=\"text-align: right;\">\n",
              "      <th></th>\n",
              "      <th>primaryName</th>\n",
              "      <th>birthYear</th>\n",
              "      <th>deathYear</th>\n",
              "      <th>category</th>\n",
              "      <th>primaryTitle</th>\n",
              "      <th>startYear</th>\n",
              "    </tr>\n",
              "  </thead>\n",
              "  <tbody>\n",
              "    <tr>\n",
              "      <th>0</th>\n",
              "      <td>Lauren Bacall</td>\n",
              "      <td>1924</td>\n",
              "      <td>2014</td>\n",
              "      <td>actress</td>\n",
              "      <td>To Have and Have Not</td>\n",
              "      <td>1944</td>\n",
              "    </tr>\n",
              "    <tr>\n",
              "      <th>1</th>\n",
              "      <td>Lauren Bacall</td>\n",
              "      <td>1924</td>\n",
              "      <td>2014</td>\n",
              "      <td>actress</td>\n",
              "      <td>Confidential Agent</td>\n",
              "      <td>1945</td>\n",
              "    </tr>\n",
              "    <tr>\n",
              "      <th>2</th>\n",
              "      <td>Lauren Bacall</td>\n",
              "      <td>1924</td>\n",
              "      <td>2014</td>\n",
              "      <td>actress</td>\n",
              "      <td>The Big Sleep</td>\n",
              "      <td>1946</td>\n",
              "    </tr>\n",
              "    <tr>\n",
              "      <th>3</th>\n",
              "      <td>Lauren Bacall</td>\n",
              "      <td>1924</td>\n",
              "      <td>2014</td>\n",
              "      <td>actress</td>\n",
              "      <td>Dark Passage</td>\n",
              "      <td>1947</td>\n",
              "    </tr>\n",
              "    <tr>\n",
              "      <th>4</th>\n",
              "      <td>Lauren Bacall</td>\n",
              "      <td>1924</td>\n",
              "      <td>2014</td>\n",
              "      <td>actress</td>\n",
              "      <td>Key Largo</td>\n",
              "      <td>1948</td>\n",
              "    </tr>\n",
              "  </tbody>\n",
              "</table>\n",
              "</div>"
            ],
            "text/plain": [
              "     primaryName  birthYear  deathYear category          primaryTitle  \\\n",
              "0  Lauren Bacall       1924       2014  actress  To Have and Have Not   \n",
              "1  Lauren Bacall       1924       2014  actress    Confidential Agent   \n",
              "2  Lauren Bacall       1924       2014  actress         The Big Sleep   \n",
              "3  Lauren Bacall       1924       2014  actress          Dark Passage   \n",
              "4  Lauren Bacall       1924       2014  actress             Key Largo   \n",
              "\n",
              "   startYear  \n",
              "0       1944  \n",
              "1       1945  \n",
              "2       1946  \n",
              "3       1947  \n",
              "4       1948  "
            ]
          },
          "metadata": {
            "tags": []
          },
          "execution_count": 28
        }
      ]
    },
    {
      "metadata": {
        "id": "Nyegs6M3-L84",
        "colab_type": "code",
        "colab": {}
      },
      "cell_type": "code",
      "source": [
        "movie_list_observed = movie_list[movie_list.startYear.isin(range(startYear,endYear))]\n",
        "movie_list_unobserved = movie_list[movie_list.startYear >= endYear]"
      ],
      "execution_count": 0,
      "outputs": []
    },
    {
      "metadata": {
        "id": "gqbl3DU3wp2I",
        "colab_type": "code",
        "colab": {}
      },
      "cell_type": "code",
      "source": [
        "movie_counts = movie_list_observed.groupby(['primaryName','startYear']).agg({'primaryTitle': 'count'}).reset_index().rename(columns = {'primaryTitle':'numberMovies'})"
      ],
      "execution_count": 0,
      "outputs": []
    },
    {
      "metadata": {
        "id": "twT8_A5F66I0",
        "colab_type": "code",
        "outputId": "16c78178-516a-4b93-e128-0f391757eed5",
        "colab": {
          "base_uri": "https://localhost:8080/",
          "height": 204
        }
      },
      "cell_type": "code",
      "source": [
        "movie_counts.groupby('primaryName').agg({'numberMovies':'sum'})"
      ],
      "execution_count": 20,
      "outputs": [
        {
          "output_type": "execute_result",
          "data": {
            "text/html": [
              "<div>\n",
              "<style scoped>\n",
              "    .dataframe tbody tr th:only-of-type {\n",
              "        vertical-align: middle;\n",
              "    }\n",
              "\n",
              "    .dataframe tbody tr th {\n",
              "        vertical-align: top;\n",
              "    }\n",
              "\n",
              "    .dataframe thead th {\n",
              "        text-align: right;\n",
              "    }\n",
              "</style>\n",
              "<table border=\"1\" class=\"dataframe\">\n",
              "  <thead>\n",
              "    <tr style=\"text-align: right;\">\n",
              "      <th></th>\n",
              "      <th>numberMovies</th>\n",
              "    </tr>\n",
              "    <tr>\n",
              "      <th>primaryName</th>\n",
              "      <th></th>\n",
              "    </tr>\n",
              "  </thead>\n",
              "  <tbody>\n",
              "    <tr>\n",
              "      <th>Cary Grant</th>\n",
              "      <td>13</td>\n",
              "    </tr>\n",
              "    <tr>\n",
              "      <th>Ingrid Bergman</th>\n",
              "      <td>12</td>\n",
              "    </tr>\n",
              "    <tr>\n",
              "      <th>James Stewart</th>\n",
              "      <td>27</td>\n",
              "    </tr>\n",
              "    <tr>\n",
              "      <th>Lauren Bacall</th>\n",
              "      <td>13</td>\n",
              "    </tr>\n",
              "  </tbody>\n",
              "</table>\n",
              "</div>"
            ],
            "text/plain": [
              "                numberMovies\n",
              "primaryName                 \n",
              "Cary Grant                13\n",
              "Ingrid Bergman            12\n",
              "James Stewart             27\n",
              "Lauren Bacall             13"
            ]
          },
          "metadata": {
            "tags": []
          },
          "execution_count": 20
        }
      ]
    },
    {
      "metadata": {
        "id": "0reXIg8TGCHO",
        "colab_type": "code",
        "colab": {
          "base_uri": "https://localhost:8080/",
          "height": 204
        },
        "outputId": "1a764810-8f40-46b9-8c8d-29e8cd10d748"
      },
      "cell_type": "code",
      "source": [
        "movie_counts.head()"
      ],
      "execution_count": 29,
      "outputs": [
        {
          "output_type": "execute_result",
          "data": {
            "text/html": [
              "<div>\n",
              "<style scoped>\n",
              "    .dataframe tbody tr th:only-of-type {\n",
              "        vertical-align: middle;\n",
              "    }\n",
              "\n",
              "    .dataframe tbody tr th {\n",
              "        vertical-align: top;\n",
              "    }\n",
              "\n",
              "    .dataframe thead th {\n",
              "        text-align: right;\n",
              "    }\n",
              "</style>\n",
              "<table border=\"1\" class=\"dataframe\">\n",
              "  <thead>\n",
              "    <tr style=\"text-align: right;\">\n",
              "      <th></th>\n",
              "      <th>primaryName</th>\n",
              "      <th>startYear</th>\n",
              "      <th>numberMovies</th>\n",
              "    </tr>\n",
              "  </thead>\n",
              "  <tbody>\n",
              "    <tr>\n",
              "      <th>0</th>\n",
              "      <td>Cary Grant</td>\n",
              "      <td>1950</td>\n",
              "      <td>1</td>\n",
              "    </tr>\n",
              "    <tr>\n",
              "      <th>1</th>\n",
              "      <td>Cary Grant</td>\n",
              "      <td>1951</td>\n",
              "      <td>1</td>\n",
              "    </tr>\n",
              "    <tr>\n",
              "      <th>2</th>\n",
              "      <td>Cary Grant</td>\n",
              "      <td>1952</td>\n",
              "      <td>2</td>\n",
              "    </tr>\n",
              "    <tr>\n",
              "      <th>3</th>\n",
              "      <td>Cary Grant</td>\n",
              "      <td>1953</td>\n",
              "      <td>1</td>\n",
              "    </tr>\n",
              "    <tr>\n",
              "      <th>4</th>\n",
              "      <td>Cary Grant</td>\n",
              "      <td>1955</td>\n",
              "      <td>1</td>\n",
              "    </tr>\n",
              "  </tbody>\n",
              "</table>\n",
              "</div>"
            ],
            "text/plain": [
              "  primaryName  startYear  numberMovies\n",
              "0  Cary Grant       1950             1\n",
              "1  Cary Grant       1951             1\n",
              "2  Cary Grant       1952             2\n",
              "3  Cary Grant       1953             1\n",
              "4  Cary Grant       1955             1"
            ]
          },
          "metadata": {
            "tags": []
          },
          "execution_count": 29
        }
      ]
    },
    {
      "metadata": {
        "id": "geqIeJvEGUgc",
        "colab_type": "code",
        "colab": {}
      },
      "cell_type": "code",
      "source": [
        "def plot_history_actor(ax, actor_name, max_value):\n",
        "  actor_history = movie_counts[movie_counts.primaryName == actor_name]\n",
        "  ax.bar(actor_history.startYear, actor_history.numberMovies, color = 'firebrick')\n",
        "  ax.set_xticks([i for i in range(1950,1960)])\n",
        "  ax.set_yticks(np.linspace(0,max_value,max_value+1))\n",
        "  ax.set_title(actor_name)\n",
        "  ax.set_facecolor(\"linen\")\n",
        "\n",
        "def plot_history_actors(actors):\n",
        "  n = len(actors)\n",
        "  k = round(n/3+0.5)\n",
        "  max_value = movie_counts[movie_counts.primaryName.isin(actors)].numberMovies.max()\n",
        "  fig, axes = plt.subplots(k,3, figsize = (15,4))\n",
        "  for ax, actor_name in zip(axes.ravel(), actors):\n",
        "    plot_history_actor(ax, actor_name, max_value)\n",
        "  for i in range(n,k*3):\n",
        "    fig.delaxes(axes.ravel()[i])\n",
        "  fig.suptitle(\"Number of movies made each year\", y = 1.1, fontsize = 20)\n",
        "  fig.tight_layout()"
      ],
      "execution_count": 0,
      "outputs": []
    },
    {
      "metadata": {
        "id": "PI-JRYtVNo9A",
        "colab_type": "code",
        "colab": {
          "base_uri": "https://localhost:8080/",
          "height": 337
        },
        "outputId": "9407aea8-ee91-4887-ec1b-2f847c394c9e"
      },
      "cell_type": "code",
      "source": [
        "plot_history_actors(actors)"
      ],
      "execution_count": 27,
      "outputs": [
        {
          "output_type": "display_data",
          "data": {
            "image/png": "[encoded data removed]",
            "text/plain": [
              "<Figure size 1080x288 with 4 Axes>"
            ]
          },
          "metadata": {
            "tags": []
          }
        }
      ]
    },
    {
      "metadata": {
        "id": "IdhSk29U80-A",
        "colab_type": "code",
        "colab": {}
      },
      "cell_type": "code",
      "source": [
        "lambda_actors = movie_counts.groupby(\"primaryName\").agg({\"numberMovies\" : \"sum\"}).reset_index()\n",
        "lambda_actors[\"lambda\"] = lambda_actors.numberMovies/(endYear - startYear)"
      ],
      "execution_count": 0,
      "outputs": []
    },
    {
      "metadata": {
        "id": "TvHtRTAWBo4C",
        "colab_type": "code",
        "colab": {
          "base_uri": "https://localhost:8080/",
          "height": 173
        },
        "outputId": "05703aaf-ef8a-4904-a3c1-b08f73f16fcb"
      },
      "cell_type": "code",
      "source": [
        "lambda_actors"
      ],
      "execution_count": 53,
      "outputs": [
        {
          "output_type": "execute_result",
          "data": {
            "text/html": [
              "<div>\n",
              "<style scoped>\n",
              "    .dataframe tbody tr th:only-of-type {\n",
              "        vertical-align: middle;\n",
              "    }\n",
              "\n",
              "    .dataframe tbody tr th {\n",
              "        vertical-align: top;\n",
              "    }\n",
              "\n",
              "    .dataframe thead th {\n",
              "        text-align: right;\n",
              "    }\n",
              "</style>\n",
              "<table border=\"1\" class=\"dataframe\">\n",
              "  <thead>\n",
              "    <tr style=\"text-align: right;\">\n",
              "      <th></th>\n",
              "      <th>primaryName</th>\n",
              "      <th>numberMovies</th>\n",
              "      <th>lambda</th>\n",
              "    </tr>\n",
              "  </thead>\n",
              "  <tbody>\n",
              "    <tr>\n",
              "      <th>0</th>\n",
              "      <td>Cary Grant</td>\n",
              "      <td>13</td>\n",
              "      <td>1.3</td>\n",
              "    </tr>\n",
              "    <tr>\n",
              "      <th>1</th>\n",
              "      <td>Ingrid Bergman</td>\n",
              "      <td>12</td>\n",
              "      <td>1.2</td>\n",
              "    </tr>\n",
              "    <tr>\n",
              "      <th>2</th>\n",
              "      <td>James Stewart</td>\n",
              "      <td>27</td>\n",
              "      <td>2.7</td>\n",
              "    </tr>\n",
              "    <tr>\n",
              "      <th>3</th>\n",
              "      <td>Lauren Bacall</td>\n",
              "      <td>13</td>\n",
              "      <td>1.3</td>\n",
              "    </tr>\n",
              "  </tbody>\n",
              "</table>\n",
              "</div>"
            ],
            "text/plain": [
              "      primaryName  numberMovies  lambda\n",
              "0      Cary Grant            13     1.3\n",
              "1  Ingrid Bergman            12     1.2\n",
              "2   James Stewart            27     2.7\n",
              "3   Lauren Bacall            13     1.3"
            ]
          },
          "metadata": {
            "tags": []
          },
          "execution_count": 53
        }
      ]
    },
    {
      "metadata": {
        "id": "1YLlgS_lBqBu",
        "colab_type": "code",
        "colab": {}
      },
      "cell_type": "code",
      "source": [
        "def probability(lambda_param, t, k):\n",
        "  return np.exp(-lambda_param*t)*(lambda_param*t)**k/np.math.factorial(k)"
      ],
      "execution_count": 0,
      "outputs": []
    },
    {
      "metadata": {
        "id": "jbWvBAedFZL5",
        "colab_type": "code",
        "colab": {}
      },
      "cell_type": "code",
      "source": [
        "def plot_probability_actor(ax, actor_name, t):\n",
        "  lambda_param = lambda_actors[lambda_actors.primaryName == actor_name][\"lambda\"].iloc[0]\n",
        "  k_list = np.linspace(0,40,41)\n",
        "  probability_list = np.array([probability(lambda_param, t, k) for k in k_list])\n",
        "  ax.plot(k_list, probability_list, color = 'firebrick')\n",
        "  ax.fill_between(k_list, probability_list,  color = 'firebrick', alpha = 0.5)\n",
        "  ax.axvline(x=lambda_param*t, color = 'k', linestyle = '--')\n",
        "  ax.set_title(actor_name)\n",
        "  ax.set_facecolor(\"linen\")\n",
        "\n",
        "def plot_probability_actors(actors, t):\n",
        "  n = len(actors)\n",
        "  k = round(n/3+0.5)\n",
        "  max_value = 0.1\n",
        "  fig, axes = plt.subplots(k,3, figsize = (15,4))\n",
        "  for ax, actor_name in zip(axes.ravel(), actors):\n",
        "    plot_probability_actor(ax, actor_name, t)\n",
        "  for i in range(n,k*3):\n",
        "    fig.delaxes(axes.ravel()[i])\n",
        "  fig.suptitle(\"Fitted probability distribution for t = \" + str(t)+ \" years\", y = 1.1, fontsize = 20)\n",
        "  fig.tight_layout()"
      ],
      "execution_count": 0,
      "outputs": []
    },
    {
      "metadata": {
        "id": "QJfweOKdLz_y",
        "colab_type": "code",
        "colab": {
          "base_uri": "https://localhost:8080/",
          "height": 337
        },
        "outputId": "068efddb-eac0-467b-f027-e2fe49adf79b"
      },
      "cell_type": "code",
      "source": [
        "plot_probability_actors(actors, 10)"
      ],
      "execution_count": 150,
      "outputs": [
        {
          "output_type": "display_data",
          "data": {
            "image/png": "[encoded data removed]",
            "text/plain": [
              "<Figure size 1080x288 with 4 Axes>"
            ]
          },
          "metadata": {
            "tags": []
          }
        }
      ]
    },
    {
      "metadata": {
        "id": "SKoRNNczk1Fa",
        "colab_type": "code",
        "colab": {}
      },
      "cell_type": "code",
      "source": [
        "def cdf(lambda_param, t, n):\n",
        "  cdf = 0\n",
        "  for i in range(n):\n",
        "    cdf += probability(lambda_param, t, i)\n",
        "  return cdf"
      ],
      "execution_count": 0,
      "outputs": []
    },
    {
      "metadata": {
        "id": "XYMM_UYIL7dX",
        "colab_type": "code",
        "colab": {}
      },
      "cell_type": "code",
      "source": [
        "def plot_cdf_actor(ax, actor_name, t):\n",
        "  lambda_param = lambda_actors[lambda_actors.primaryName == actor_name][\"lambda\"].iloc[0]\n",
        "  n_list = np.linspace(0,40,41, dtype = int)\n",
        "  probability_list = np.array([1-cdf(lambda_param, t, n) for n in n_list])\n",
        "  ax.bar(n_list, probability_list, color = 'firebrick')\n",
        "  ax.set_yticks(np.linspace(0,1,5))\n",
        "  ax.set_title(actor_name)\n",
        "  ax.set_facecolor(\"linen\")\n",
        "\n",
        "def plot_cdf_actors(actors, t):\n",
        "  n = len(actors)\n",
        "  k = round(n/3+0.5)\n",
        "  max_value = 0.1\n",
        "  fig, axes = plt.subplots(k,3, figsize = (15,4))\n",
        "  for ax, actor_name in zip(axes.ravel(), actors):\n",
        "    plot_cdf_actor(ax, actor_name, t)\n",
        "  for i in range(n,k*3):\n",
        "    fig.delaxes(axes.ravel()[i])\n",
        "  fig.suptitle(\"Probability of appearing in more than n movies in t = \"+ str(t) +\" years\", y = 1.1, fontsize = 20)\n",
        "  fig.tight_layout()"
      ],
      "execution_count": 0,
      "outputs": []
    },
    {
      "metadata": {
        "id": "d_X36Acol3B5",
        "colab_type": "code",
        "colab": {
          "base_uri": "https://localhost:8080/",
          "height": 337
        },
        "outputId": "fa1c7b27-b490-46dc-a227-a97a27a50fe4"
      },
      "cell_type": "code",
      "source": [
        "plot_cdf_actors(actors, 10)"
      ],
      "execution_count": 148,
      "outputs": [
        {
          "output_type": "display_data",
          "data": {
            "image/png": "[encoded data removed]",
            "text/plain": [
              "<Figure size 1080x288 with 4 Axes>"
            ]
          },
          "metadata": {
            "tags": []
          }
        }
      ]
    },
    {
      "metadata": {
        "id": "wfqYiQDnn8q-",
        "colab_type": "code",
        "colab": {}
      },
      "cell_type": "code",
      "source": [
        ""
      ],
      "execution_count": 0,
      "outputs": []
    }
  ]
}