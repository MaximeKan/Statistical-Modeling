{
  "nbformat": 4,
  "nbformat_minor": 0,
  "metadata": {
    "colab": {
      "name": "Actors_movie_counts.ipynb",
      "version": "0.3.2",
      "provenance": [],
      "collapsed_sections": []
    },
    "kernelspec": {
      "name": "python3",
      "display_name": "Python 3"
    },
    "accelerator": "GPU"
  },
  "cells": [
    {
      "cell_type": "markdown",
      "metadata": {
        "id": "rFSobhNfvwoU",
        "colab_type": "text"
      },
      "source": [
        "# Estimating how active actors will be"
      ]
    },
    {
      "cell_type": "markdown",
      "metadata": {
        "id": "MOERTg6mCV76",
        "colab_type": "text"
      },
      "source": [
        "In this post, we will try to modelize and forecast how many movies we can expect actors to appear in in the future based on their past activity. This is a problem that bears many similarities with marketing topics such as customer analysis, and can be viewed as a Customer Lifetime Value problem. The approach we will present here differs from time series in that we do not really  associate movies with time units with attention, but rather look at aggregate numbers of movies during time ranges to fit probabilistic models.\n",
        "\n",
        "For the purpose of this analysis, we will look at actors activity between 1950 and 1959 and try to estimate how many movies we can expect them to make in the next decade, from 1960 to 1969. In more statistical terms, we define 1950-1959 as our train period and 1960-1969 as our test period.\n",
        "\n",
        "One main prerequisite of Customer Lifetime Value analysis is that by the beginning of the train period, all actors should be active. We should also ensure that by the end of the train period, all actors could still potentially be active. Hence, we will define active actors as actors who made at least one movie between 1945 and 1949 and that did not pass away before 1959. This will ensure that we only select actors that had already started their career by 1950 and that had the potential to continue their career after 1959. "
      ]
    },
    {
      "cell_type": "markdown",
      "metadata": {
        "id": "WQsBfeARz9sj",
        "colab_type": "text"
      },
      "source": [
        "## 1. Load Data\n",
        "\n",
        "First, let us install all the packages required for this project. We will mainly be using the package <a href ='https://lifetimes.readthedocs.io/en/latest/index.html'>lifetimes</a>, which has most of the underlying maths already implemented."
      ]
    },
    {
      "cell_type": "code",
      "metadata": {
        "id": "vP7bHoNd6biE",
        "colab_type": "code",
        "colab": {}
      },
      "source": [
        "%%capture\n",
        "! pip install lifetimes"
      ],
      "execution_count": 0,
      "outputs": []
    },
    {
      "cell_type": "code",
      "metadata": {
        "id": "4nMo14e7SyAL",
        "colab_type": "code",
        "colab": {}
      },
      "source": [
        "import pandas as pd\n",
        "import numpy as np\n",
        "import matplotlib.pyplot as plt\n",
        "from lifetimes import ParetoNBDFitter\n",
        "from lifetimes.plotting import plot_frequency_recency_matrix, plot_probability_alive_matrix, plot_history_alive\n",
        "from sklearn.metrics import mean_squared_error, mean_absolute_error, r2_score\n",
        "from scipy.stats import gamma\n",
        "%matplotlib inline"
      ],
      "execution_count": 0,
      "outputs": []
    },
    {
      "cell_type": "markdown",
      "metadata": {
        "id": "XmNQdwrP0r82",
        "colab_type": "text"
      },
      "source": [
        "The data we will be using is from IMDB, the code below does loads, unzips and reads the three tables we will need here:\n",
        "\n",
        "- A cast table that maps movie IDs to actor IDs\n",
        "- A title table that maps movie IDs to movie information\n",
        "- A name table that maps actor IDs to actor information"
      ]
    },
    {
      "cell_type": "code",
      "metadata": {
        "id": "OTdous9OkEMC",
        "colab_type": "code",
        "colab": {}
      },
      "source": [
        "%%capture\n",
        "! wget \"https://datasets.imdbws.com/title.principals.tsv.gz\"\n",
        "! wget \"https://datasets.imdbws.com/title.basics.tsv.gz\"\n",
        "! wget \"https://datasets.imdbws.com/name.basics.tsv.gz\"\n",
        "\n",
        "! gunzip title.principals.tsv.gz\n",
        "! gunzip title.basics.tsv.gz\n",
        "! gunzip name.basics.tsv.gz"
      ],
      "execution_count": 0,
      "outputs": []
    },
    {
      "cell_type": "code",
      "metadata": {
        "id": "PDXIzxlBloYV",
        "colab_type": "code",
        "colab": {}
      },
      "source": [
        "cast = pd.read_csv('title.principals.tsv', sep='\\t', na_values = \"\\\\N\", keep_default_na = False, \n",
        "                   usecols = ['tconst','ordering','nconst','category','job'],\n",
        "                   dtype = {'tconst': str, 'ordering': 'Int64', 'nconst': str, 'category': str, 'job': str})\n",
        "titles = pd.read_csv('title.basics.tsv', sep='\\t', na_values = \"\\\\N\", keep_default_na = False,\n",
        "                     usecols = ['tconst','primaryTitle','startYear','titleType'],\n",
        "                    dtype = {'tconst': str, 'primaryTitle': str, 'startYear': 'Int64','titleType':str})\n",
        "names = pd.read_csv('name.basics.tsv', sep='\\t', na_values = \"\\\\N\", keep_default_na = False,\n",
        "                    usecols = ['nconst','primaryName','birthYear','deathYear'],\n",
        "                   dtype = {'nconst': str, 'primaryName': str, 'birthYear': 'Int64', 'deathYear': 'Int64'})"
      ],
      "execution_count": 0,
      "outputs": []
    },
    {
      "cell_type": "markdown",
      "metadata": {
        "id": "jwkIqtwB-_gO",
        "colab_type": "text"
      },
      "source": [
        "To get a sense of what these three tables look like, here are some snippets:"
      ]
    },
    {
      "cell_type": "code",
      "metadata": {
        "id": "2nIfHSvShrCI",
        "colab_type": "code",
        "outputId": "d0a5eff3-93d8-4ce4-c65e-d7c33cbafa98",
        "colab": {
          "base_uri": "https://localhost:8080/",
          "height": 204
        }
      },
      "source": [
        "cast.head()"
      ],
      "execution_count": 6,
      "outputs": [
        {
          "output_type": "execute_result",
          "data": {
            "text/html": [
              "<div>\n",
              "<style scoped>\n",
              "    .dataframe tbody tr th:only-of-type {\n",
              "        vertical-align: middle;\n",
              "    }\n",
              "\n",
              "    .dataframe tbody tr th {\n",
              "        vertical-align: top;\n",
              "    }\n",
              "\n",
              "    .dataframe thead th {\n",
              "        text-align: right;\n",
              "    }\n",
              "</style>\n",
              "<table border=\"1\" class=\"dataframe\">\n",
              "  <thead>\n",
              "    <tr style=\"text-align: right;\">\n",
              "      <th></th>\n",
              "      <th>tconst</th>\n",
              "      <th>ordering</th>\n",
              "      <th>nconst</th>\n",
              "      <th>category</th>\n",
              "      <th>job</th>\n",
              "    </tr>\n",
              "  </thead>\n",
              "  <tbody>\n",
              "    <tr>\n",
              "      <th>0</th>\n",
              "      <td>tt0000001</td>\n",
              "      <td>1</td>\n",
              "      <td>nm1588970</td>\n",
              "      <td>self</td>\n",
              "      <td>NaN</td>\n",
              "    </tr>\n",
              "    <tr>\n",
              "      <th>1</th>\n",
              "      <td>tt0000001</td>\n",
              "      <td>2</td>\n",
              "      <td>nm0005690</td>\n",
              "      <td>director</td>\n",
              "      <td>NaN</td>\n",
              "    </tr>\n",
              "    <tr>\n",
              "      <th>2</th>\n",
              "      <td>tt0000001</td>\n",
              "      <td>3</td>\n",
              "      <td>nm0374658</td>\n",
              "      <td>cinematographer</td>\n",
              "      <td>director of photography</td>\n",
              "    </tr>\n",
              "    <tr>\n",
              "      <th>3</th>\n",
              "      <td>tt0000002</td>\n",
              "      <td>1</td>\n",
              "      <td>nm0721526</td>\n",
              "      <td>director</td>\n",
              "      <td>NaN</td>\n",
              "    </tr>\n",
              "    <tr>\n",
              "      <th>4</th>\n",
              "      <td>tt0000002</td>\n",
              "      <td>2</td>\n",
              "      <td>nm1335271</td>\n",
              "      <td>composer</td>\n",
              "      <td>NaN</td>\n",
              "    </tr>\n",
              "  </tbody>\n",
              "</table>\n",
              "</div>"
            ],
            "text/plain": [
              "      tconst  ordering     nconst         category                      job\n",
              "0  tt0000001         1  nm1588970             self                      NaN\n",
              "1  tt0000001         2  nm0005690         director                      NaN\n",
              "2  tt0000001         3  nm0374658  cinematographer  director of photography\n",
              "3  tt0000002         1  nm0721526         director                      NaN\n",
              "4  tt0000002         2  nm1335271         composer                      NaN"
            ]
          },
          "metadata": {
            "tags": []
          },
          "execution_count": 6
        }
      ]
    },
    {
      "cell_type": "code",
      "metadata": {
        "id": "ZsGmXSGCzQbX",
        "colab_type": "code",
        "outputId": "e8448b85-09c6-4936-b5d5-527b61b40675",
        "colab": {
          "base_uri": "https://localhost:8080/",
          "height": 204
        }
      },
      "source": [
        "movie_titles = titles[titles.titleType == 'movie']\n",
        "movie_titles.head()"
      ],
      "execution_count": 7,
      "outputs": [
        {
          "output_type": "execute_result",
          "data": {
            "text/html": [
              "<div>\n",
              "<style scoped>\n",
              "    .dataframe tbody tr th:only-of-type {\n",
              "        vertical-align: middle;\n",
              "    }\n",
              "\n",
              "    .dataframe tbody tr th {\n",
              "        vertical-align: top;\n",
              "    }\n",
              "\n",
              "    .dataframe thead th {\n",
              "        text-align: right;\n",
              "    }\n",
              "</style>\n",
              "<table border=\"1\" class=\"dataframe\">\n",
              "  <thead>\n",
              "    <tr style=\"text-align: right;\">\n",
              "      <th></th>\n",
              "      <th>tconst</th>\n",
              "      <th>titleType</th>\n",
              "      <th>primaryTitle</th>\n",
              "      <th>startYear</th>\n",
              "    </tr>\n",
              "  </thead>\n",
              "  <tbody>\n",
              "    <tr>\n",
              "      <th>8</th>\n",
              "      <td>tt0000009</td>\n",
              "      <td>movie</td>\n",
              "      <td>Miss Jerry</td>\n",
              "      <td>1894</td>\n",
              "    </tr>\n",
              "    <tr>\n",
              "      <th>145</th>\n",
              "      <td>tt0000147</td>\n",
              "      <td>movie</td>\n",
              "      <td>The Corbett-Fitzsimmons Fight</td>\n",
              "      <td>1897</td>\n",
              "    </tr>\n",
              "    <tr>\n",
              "      <th>332</th>\n",
              "      <td>tt0000335</td>\n",
              "      <td>movie</td>\n",
              "      <td>Soldiers of the Cross</td>\n",
              "      <td>1900</td>\n",
              "    </tr>\n",
              "    <tr>\n",
              "      <th>499</th>\n",
              "      <td>tt0000502</td>\n",
              "      <td>movie</td>\n",
              "      <td>Bohemios</td>\n",
              "      <td>1905</td>\n",
              "    </tr>\n",
              "    <tr>\n",
              "      <th>571</th>\n",
              "      <td>tt0000574</td>\n",
              "      <td>movie</td>\n",
              "      <td>The Story of the Kelly Gang</td>\n",
              "      <td>1906</td>\n",
              "    </tr>\n",
              "  </tbody>\n",
              "</table>\n",
              "</div>"
            ],
            "text/plain": [
              "        tconst titleType                   primaryTitle  startYear\n",
              "8    tt0000009     movie                     Miss Jerry       1894\n",
              "145  tt0000147     movie  The Corbett-Fitzsimmons Fight       1897\n",
              "332  tt0000335     movie          Soldiers of the Cross       1900\n",
              "499  tt0000502     movie                       Bohemios       1905\n",
              "571  tt0000574     movie    The Story of the Kelly Gang       1906"
            ]
          },
          "metadata": {
            "tags": []
          },
          "execution_count": 7
        }
      ]
    },
    {
      "cell_type": "code",
      "metadata": {
        "id": "kTg_Ywt8zSPx",
        "colab_type": "code",
        "outputId": "d64fe544-08e4-4c2e-b524-735aa49440f8",
        "colab": {
          "base_uri": "https://localhost:8080/",
          "height": 204
        }
      },
      "source": [
        "names[\"alive\"] = names.deathYear.isnull()\n",
        "names.head()"
      ],
      "execution_count": 8,
      "outputs": [
        {
          "output_type": "execute_result",
          "data": {
            "text/html": [
              "<div>\n",
              "<style scoped>\n",
              "    .dataframe tbody tr th:only-of-type {\n",
              "        vertical-align: middle;\n",
              "    }\n",
              "\n",
              "    .dataframe tbody tr th {\n",
              "        vertical-align: top;\n",
              "    }\n",
              "\n",
              "    .dataframe thead th {\n",
              "        text-align: right;\n",
              "    }\n",
              "</style>\n",
              "<table border=\"1\" class=\"dataframe\">\n",
              "  <thead>\n",
              "    <tr style=\"text-align: right;\">\n",
              "      <th></th>\n",
              "      <th>nconst</th>\n",
              "      <th>primaryName</th>\n",
              "      <th>birthYear</th>\n",
              "      <th>deathYear</th>\n",
              "      <th>alive</th>\n",
              "    </tr>\n",
              "  </thead>\n",
              "  <tbody>\n",
              "    <tr>\n",
              "      <th>0</th>\n",
              "      <td>nm0000001</td>\n",
              "      <td>Fred Astaire</td>\n",
              "      <td>1899</td>\n",
              "      <td>1987</td>\n",
              "      <td>False</td>\n",
              "    </tr>\n",
              "    <tr>\n",
              "      <th>1</th>\n",
              "      <td>nm0000002</td>\n",
              "      <td>Lauren Bacall</td>\n",
              "      <td>1924</td>\n",
              "      <td>2014</td>\n",
              "      <td>False</td>\n",
              "    </tr>\n",
              "    <tr>\n",
              "      <th>2</th>\n",
              "      <td>nm0000003</td>\n",
              "      <td>Brigitte Bardot</td>\n",
              "      <td>1934</td>\n",
              "      <td>NaN</td>\n",
              "      <td>True</td>\n",
              "    </tr>\n",
              "    <tr>\n",
              "      <th>3</th>\n",
              "      <td>nm0000004</td>\n",
              "      <td>John Belushi</td>\n",
              "      <td>1949</td>\n",
              "      <td>1982</td>\n",
              "      <td>False</td>\n",
              "    </tr>\n",
              "    <tr>\n",
              "      <th>4</th>\n",
              "      <td>nm0000005</td>\n",
              "      <td>Ingmar Bergman</td>\n",
              "      <td>1918</td>\n",
              "      <td>2007</td>\n",
              "      <td>False</td>\n",
              "    </tr>\n",
              "  </tbody>\n",
              "</table>\n",
              "</div>"
            ],
            "text/plain": [
              "      nconst      primaryName  birthYear  deathYear  alive\n",
              "0  nm0000001     Fred Astaire       1899       1987  False\n",
              "1  nm0000002    Lauren Bacall       1924       2014  False\n",
              "2  nm0000003  Brigitte Bardot       1934        NaN   True\n",
              "3  nm0000004     John Belushi       1949       1982  False\n",
              "4  nm0000005   Ingmar Bergman       1918       2007  False"
            ]
          },
          "metadata": {
            "tags": []
          },
          "execution_count": 8
        }
      ]
    },
    {
      "cell_type": "markdown",
      "metadata": {
        "id": "k91qKxlFvA7o",
        "colab_type": "text"
      },
      "source": [
        "## 2. Data Preparation"
      ]
    },
    {
      "cell_type": "markdown",
      "metadata": {
        "id": "-gs43Q6k_85i",
        "colab_type": "text"
      },
      "source": [
        "### Getting the transactional data for active actors"
      ]
    },
    {
      "cell_type": "markdown",
      "metadata": {
        "id": "QtcipLOrADn6",
        "colab_type": "text"
      },
      "source": [
        "The first thing we need to do is to keep only the actors that are active according to these two criteria (already specified above):\n",
        "\n",
        " - they need to have been active between 1945 and 1949, before the train period starts\n",
        " - they need to have been alive in 1959, when the train period ends"
      ]
    },
    {
      "cell_type": "code",
      "metadata": {
        "id": "DXH4aYcm_Qgi",
        "colab_type": "code",
        "colab": {}
      },
      "source": [
        "startYear = 1950\n",
        "endYear = 1960"
      ],
      "execution_count": 0,
      "outputs": []
    },
    {
      "cell_type": "code",
      "metadata": {
        "id": "wH6-W8jBbxcq",
        "colab_type": "code",
        "colab": {}
      },
      "source": [
        "# Filtering out actors that died before the end of the train period\n",
        "classic_names = names[(names.birthYear<=startYear-10) & ((names.deathYear>=endYear) | (names.alive == True))]\n",
        "\n",
        "# Merging all three data tables\n",
        "classic_cast_actors = pd.merge(classic_names, cast, on = 'nconst')\n",
        "movie_actors = pd.merge(classic_cast_actors, movie_titles, on = 'tconst')\n",
        "movie_list = movie_actors[['primaryName','birthYear','deathYear','category','primaryTitle','startYear']]\n",
        "movie_list = movie_list[movie_list.category.isin(['actor','actress'])]\n",
        "\n",
        "# Filtering out actors that we not active in the 5 years prior to the start of the train period\n",
        "active_actors = movie_list[movie_list.startYear > startYear - 5].groupby(\"primaryName\").agg({\"startYear\":'min'}).reset_index()\n",
        "active_actors_list = active_actors[active_actors.startYear < startYear]\n",
        "actors_list = active_actors_list[\"primaryName\"]\n",
        "movie_list = movie_list[movie_list.primaryName.isin(actors_list)]\n",
        "\n",
        "# Splitting the train and test period\n",
        "movie_list_observed = movie_list[movie_list.startYear.isin(range(startYear,endYear))]\n",
        "movie_list_unobserved = movie_list[movie_list.startYear.isin(range(endYear,endYear+10))]"
      ],
      "execution_count": 0,
      "outputs": []
    },
    {
      "cell_type": "markdown",
      "metadata": {
        "id": "ZDFo1e4LHIRg",
        "colab_type": "text"
      },
      "source": [
        "Eventually, we get a list of all the movies made by active actors during the train period. In CLV terms, this data is called the \"transactional data\", meaning there is one record by observation over time for each party. We have these tables for both the train period (observed) and test period (unobserved)."
      ]
    },
    {
      "cell_type": "code",
      "metadata": {
        "id": "e9IiLyRLHEL6",
        "colab_type": "code",
        "outputId": "3c080fb0-9bb8-4806-ea95-06b465787786",
        "colab": {
          "base_uri": "https://localhost:8080/",
          "height": 204
        }
      },
      "source": [
        "movie_list_observed.head()"
      ],
      "execution_count": 11,
      "outputs": [
        {
          "output_type": "execute_result",
          "data": {
            "text/html": [
              "<div>\n",
              "<style scoped>\n",
              "    .dataframe tbody tr th:only-of-type {\n",
              "        vertical-align: middle;\n",
              "    }\n",
              "\n",
              "    .dataframe tbody tr th {\n",
              "        vertical-align: top;\n",
              "    }\n",
              "\n",
              "    .dataframe thead th {\n",
              "        text-align: right;\n",
              "    }\n",
              "</style>\n",
              "<table border=\"1\" class=\"dataframe\">\n",
              "  <thead>\n",
              "    <tr style=\"text-align: right;\">\n",
              "      <th></th>\n",
              "      <th>primaryName</th>\n",
              "      <th>birthYear</th>\n",
              "      <th>deathYear</th>\n",
              "      <th>category</th>\n",
              "      <th>primaryTitle</th>\n",
              "      <th>startYear</th>\n",
              "    </tr>\n",
              "  </thead>\n",
              "  <tbody>\n",
              "    <tr>\n",
              "      <th>162</th>\n",
              "      <td>Fred Astaire</td>\n",
              "      <td>1899</td>\n",
              "      <td>1987</td>\n",
              "      <td>actor</td>\n",
              "      <td>Let's Dance</td>\n",
              "      <td>1950</td>\n",
              "    </tr>\n",
              "    <tr>\n",
              "      <th>163</th>\n",
              "      <td>Betty Hutton</td>\n",
              "      <td>1921</td>\n",
              "      <td>2007</td>\n",
              "      <td>actress</td>\n",
              "      <td>Let's Dance</td>\n",
              "      <td>1950</td>\n",
              "    </tr>\n",
              "    <tr>\n",
              "      <th>167</th>\n",
              "      <td>Ruth Warrick</td>\n",
              "      <td>1916</td>\n",
              "      <td>2005</td>\n",
              "      <td>actress</td>\n",
              "      <td>Let's Dance</td>\n",
              "      <td>1950</td>\n",
              "    </tr>\n",
              "    <tr>\n",
              "      <th>169</th>\n",
              "      <td>Fred Astaire</td>\n",
              "      <td>1899</td>\n",
              "      <td>1987</td>\n",
              "      <td>actor</td>\n",
              "      <td>Three Little Words</td>\n",
              "      <td>1950</td>\n",
              "    </tr>\n",
              "    <tr>\n",
              "      <th>170</th>\n",
              "      <td>Arlene Dahl</td>\n",
              "      <td>1925</td>\n",
              "      <td>NaN</td>\n",
              "      <td>actress</td>\n",
              "      <td>Three Little Words</td>\n",
              "      <td>1950</td>\n",
              "    </tr>\n",
              "  </tbody>\n",
              "</table>\n",
              "</div>"
            ],
            "text/plain": [
              "      primaryName  birthYear  deathYear category        primaryTitle  startYear\n",
              "162  Fred Astaire       1899       1987    actor         Let's Dance       1950\n",
              "163  Betty Hutton       1921       2007  actress         Let's Dance       1950\n",
              "167  Ruth Warrick       1916       2005  actress         Let's Dance       1950\n",
              "169  Fred Astaire       1899       1987    actor  Three Little Words       1950\n",
              "170   Arlene Dahl       1925        NaN  actress  Three Little Words       1950"
            ]
          },
          "metadata": {
            "tags": []
          },
          "execution_count": 11
        }
      ]
    },
    {
      "cell_type": "markdown",
      "metadata": {
        "id": "3pnHyWtCIs67",
        "colab_type": "text"
      },
      "source": [
        "### Getting the summary data for active actors"
      ]
    },
    {
      "cell_type": "markdown",
      "metadata": {
        "id": "v4JfB4nKIxYn",
        "colab_type": "text"
      },
      "source": [
        "Transactional data is a natural way of formatting the data, as it allows to quickly access all the movies made by an actor for each year. However, most of this data is actually redundant for the methodologies we are going to be using, which are not time series-based. \n",
        "\n",
        "Most of the analysis below will rely on summary data instead, which is simply an aggregated count of the movies by actor during the train period."
      ]
    },
    {
      "cell_type": "code",
      "metadata": {
        "id": "gqbl3DU3wp2I",
        "colab_type": "code",
        "colab": {}
      },
      "source": [
        "movie_counts = movie_list_observed.groupby(['primaryName','startYear']).agg({'primaryTitle': 'count'}).reset_index().rename(columns = {'primaryTitle':'numberMovies'})\n",
        "movie_counts_validation = movie_list_unobserved.groupby(['primaryName','startYear']).agg({'primaryTitle': 'count'}).reset_index().rename(columns = {'primaryTitle':'numberMovies'})"
      ],
      "execution_count": 0,
      "outputs": []
    },
    {
      "cell_type": "code",
      "metadata": {
        "id": "0reXIg8TGCHO",
        "colab_type": "code",
        "outputId": "5546c3d7-a9f9-4dbb-9a17-4172e829fb46",
        "colab": {
          "base_uri": "https://localhost:8080/",
          "height": 204
        }
      },
      "source": [
        "movie_counts.head()"
      ],
      "execution_count": 13,
      "outputs": [
        {
          "output_type": "execute_result",
          "data": {
            "text/html": [
              "<div>\n",
              "<style scoped>\n",
              "    .dataframe tbody tr th:only-of-type {\n",
              "        vertical-align: middle;\n",
              "    }\n",
              "\n",
              "    .dataframe tbody tr th {\n",
              "        vertical-align: top;\n",
              "    }\n",
              "\n",
              "    .dataframe thead th {\n",
              "        text-align: right;\n",
              "    }\n",
              "</style>\n",
              "<table border=\"1\" class=\"dataframe\">\n",
              "  <thead>\n",
              "    <tr style=\"text-align: right;\">\n",
              "      <th></th>\n",
              "      <th>primaryName</th>\n",
              "      <th>startYear</th>\n",
              "      <th>numberMovies</th>\n",
              "    </tr>\n",
              "  </thead>\n",
              "  <tbody>\n",
              "    <tr>\n",
              "      <th>0</th>\n",
              "      <td>A.E. Matthews</td>\n",
              "      <td>1951</td>\n",
              "      <td>1</td>\n",
              "    </tr>\n",
              "    <tr>\n",
              "      <th>1</th>\n",
              "      <td>A.E. Matthews</td>\n",
              "      <td>1952</td>\n",
              "      <td>3</td>\n",
              "    </tr>\n",
              "    <tr>\n",
              "      <th>2</th>\n",
              "      <td>A.E. Matthews</td>\n",
              "      <td>1954</td>\n",
              "      <td>1</td>\n",
              "    </tr>\n",
              "    <tr>\n",
              "      <th>3</th>\n",
              "      <td>A.E. Matthews</td>\n",
              "      <td>1956</td>\n",
              "      <td>1</td>\n",
              "    </tr>\n",
              "    <tr>\n",
              "      <th>4</th>\n",
              "      <td>Abbas Fares</td>\n",
              "      <td>1951</td>\n",
              "      <td>3</td>\n",
              "    </tr>\n",
              "  </tbody>\n",
              "</table>\n",
              "</div>"
            ],
            "text/plain": [
              "     primaryName  startYear  numberMovies\n",
              "0  A.E. Matthews       1951             1\n",
              "1  A.E. Matthews       1952             3\n",
              "2  A.E. Matthews       1954             1\n",
              "3  A.E. Matthews       1956             1\n",
              "4    Abbas Fares       1951             3"
            ]
          },
          "metadata": {
            "tags": []
          },
          "execution_count": 13
        }
      ]
    },
    {
      "cell_type": "code",
      "metadata": {
        "id": "twT8_A5F66I0",
        "colab_type": "code",
        "outputId": "e9b11000-8677-435d-c121-a32560aa190a",
        "colab": {
          "base_uri": "https://localhost:8080/",
          "height": 235
        }
      },
      "source": [
        "movie_counts.groupby('primaryName').agg({'numberMovies':'sum'}).head()"
      ],
      "execution_count": 14,
      "outputs": [
        {
          "output_type": "execute_result",
          "data": {
            "text/html": [
              "<div>\n",
              "<style scoped>\n",
              "    .dataframe tbody tr th:only-of-type {\n",
              "        vertical-align: middle;\n",
              "    }\n",
              "\n",
              "    .dataframe tbody tr th {\n",
              "        vertical-align: top;\n",
              "    }\n",
              "\n",
              "    .dataframe thead th {\n",
              "        text-align: right;\n",
              "    }\n",
              "</style>\n",
              "<table border=\"1\" class=\"dataframe\">\n",
              "  <thead>\n",
              "    <tr style=\"text-align: right;\">\n",
              "      <th></th>\n",
              "      <th>numberMovies</th>\n",
              "    </tr>\n",
              "    <tr>\n",
              "      <th>primaryName</th>\n",
              "      <th></th>\n",
              "    </tr>\n",
              "  </thead>\n",
              "  <tbody>\n",
              "    <tr>\n",
              "      <th>A.E. Matthews</th>\n",
              "      <td>6</td>\n",
              "    </tr>\n",
              "    <tr>\n",
              "      <th>Abbas Fares</th>\n",
              "      <td>8</td>\n",
              "    </tr>\n",
              "    <tr>\n",
              "      <th>Abdel Aziz Mahmoud</th>\n",
              "      <td>8</td>\n",
              "    </tr>\n",
              "    <tr>\n",
              "      <th>Abdel Fatah Al Kasri</th>\n",
              "      <td>13</td>\n",
              "    </tr>\n",
              "    <tr>\n",
              "      <th>Abdulsalam El-Nabulsi</th>\n",
              "      <td>37</td>\n",
              "    </tr>\n",
              "  </tbody>\n",
              "</table>\n",
              "</div>"
            ],
            "text/plain": [
              "                       numberMovies\n",
              "primaryName                        \n",
              "A.E. Matthews                     6\n",
              "Abbas Fares                       8\n",
              "Abdel Aziz Mahmoud                8\n",
              "Abdel Fatah Al Kasri             13\n",
              "Abdulsalam El-Nabulsi            37"
            ]
          },
          "metadata": {
            "tags": []
          },
          "execution_count": 14
        }
      ]
    },
    {
      "cell_type": "markdown",
      "metadata": {
        "id": "UqEsG_bAFYyF",
        "colab_type": "text"
      },
      "source": [
        "## 3. Data Exploration"
      ]
    },
    {
      "cell_type": "code",
      "metadata": {
        "id": "J-fbwaHeEusc",
        "colab_type": "code",
        "outputId": "63049fbd-111b-401e-8b10-6b5ad4654fd9",
        "colab": {
          "base_uri": "https://localhost:8080/",
          "height": 34
        }
      },
      "source": [
        "print(\"There are %i active actors between %i and %i in our data.\" %(len(actors_list),startYear, endYear-1))"
      ],
      "execution_count": 15,
      "outputs": [
        {
          "output_type": "stream",
          "text": [
            "There are 5667 active actors between 1950 and 1959 in our data.\n"
          ],
          "name": "stdout"
        }
      ]
    },
    {
      "cell_type": "markdown",
      "metadata": {
        "id": "ADeC1TyQEeGt",
        "colab_type": "text"
      },
      "source": [
        "Given there are no less than 5662 active actors in our data in the 50's, we might just as well pick a few of them to get a sense of how the data looks and then later how our estimation methodology works for them."
      ]
    },
    {
      "cell_type": "code",
      "metadata": {
        "id": "FUdkSLBE5qhL",
        "colab_type": "code",
        "outputId": "395765a7-5dc8-4483-de3a-cb60dd0f5918",
        "colab": {
          "base_uri": "https://localhost:8080/",
          "height": 297
        }
      },
      "source": [
        "actors = [\"Lauren Bacall\", \"Cary Grant\", \"Ingrid Bergman\", \"James Stewart\", \"Elizabeth Taylor\", \"Gary Cooper\",\n",
        "         \"Clark Gable\", \"Katharine Hepburn\"]\n",
        "\n",
        "names_actors = classic_names[classic_names.primaryName.isin(actors)].head(len(actors))\n",
        "names_actors"
      ],
      "execution_count": 16,
      "outputs": [
        {
          "output_type": "execute_result",
          "data": {
            "text/html": [
              "<div>\n",
              "<style scoped>\n",
              "    .dataframe tbody tr th:only-of-type {\n",
              "        vertical-align: middle;\n",
              "    }\n",
              "\n",
              "    .dataframe tbody tr th {\n",
              "        vertical-align: top;\n",
              "    }\n",
              "\n",
              "    .dataframe thead th {\n",
              "        text-align: right;\n",
              "    }\n",
              "</style>\n",
              "<table border=\"1\" class=\"dataframe\">\n",
              "  <thead>\n",
              "    <tr style=\"text-align: right;\">\n",
              "      <th></th>\n",
              "      <th>nconst</th>\n",
              "      <th>primaryName</th>\n",
              "      <th>birthYear</th>\n",
              "      <th>deathYear</th>\n",
              "      <th>alive</th>\n",
              "    </tr>\n",
              "  </thead>\n",
              "  <tbody>\n",
              "    <tr>\n",
              "      <th>1</th>\n",
              "      <td>nm0000002</td>\n",
              "      <td>Lauren Bacall</td>\n",
              "      <td>1924</td>\n",
              "      <td>2014</td>\n",
              "      <td>False</td>\n",
              "    </tr>\n",
              "    <tr>\n",
              "      <th>5</th>\n",
              "      <td>nm0000006</td>\n",
              "      <td>Ingrid Bergman</td>\n",
              "      <td>1915</td>\n",
              "      <td>1982</td>\n",
              "      <td>False</td>\n",
              "    </tr>\n",
              "    <tr>\n",
              "      <th>10</th>\n",
              "      <td>nm0000011</td>\n",
              "      <td>Gary Cooper</td>\n",
              "      <td>1901</td>\n",
              "      <td>1961</td>\n",
              "      <td>False</td>\n",
              "    </tr>\n",
              "    <tr>\n",
              "      <th>21</th>\n",
              "      <td>nm0000022</td>\n",
              "      <td>Clark Gable</td>\n",
              "      <td>1901</td>\n",
              "      <td>1960</td>\n",
              "      <td>False</td>\n",
              "    </tr>\n",
              "    <tr>\n",
              "      <th>25</th>\n",
              "      <td>nm0000026</td>\n",
              "      <td>Cary Grant</td>\n",
              "      <td>1904</td>\n",
              "      <td>1986</td>\n",
              "      <td>False</td>\n",
              "    </tr>\n",
              "    <tr>\n",
              "      <th>30</th>\n",
              "      <td>nm0000031</td>\n",
              "      <td>Katharine Hepburn</td>\n",
              "      <td>1907</td>\n",
              "      <td>2003</td>\n",
              "      <td>False</td>\n",
              "    </tr>\n",
              "    <tr>\n",
              "      <th>70</th>\n",
              "      <td>nm0000071</td>\n",
              "      <td>James Stewart</td>\n",
              "      <td>1908</td>\n",
              "      <td>1997</td>\n",
              "      <td>False</td>\n",
              "    </tr>\n",
              "    <tr>\n",
              "      <th>71</th>\n",
              "      <td>nm0000072</td>\n",
              "      <td>Elizabeth Taylor</td>\n",
              "      <td>1932</td>\n",
              "      <td>2011</td>\n",
              "      <td>False</td>\n",
              "    </tr>\n",
              "  </tbody>\n",
              "</table>\n",
              "</div>"
            ],
            "text/plain": [
              "       nconst        primaryName  birthYear  deathYear  alive\n",
              "1   nm0000002      Lauren Bacall       1924       2014  False\n",
              "5   nm0000006     Ingrid Bergman       1915       1982  False\n",
              "10  nm0000011        Gary Cooper       1901       1961  False\n",
              "21  nm0000022        Clark Gable       1901       1960  False\n",
              "25  nm0000026         Cary Grant       1904       1986  False\n",
              "30  nm0000031  Katharine Hepburn       1907       2003  False\n",
              "70  nm0000071      James Stewart       1908       1997  False\n",
              "71  nm0000072   Elizabeth Taylor       1932       2011  False"
            ]
          },
          "metadata": {
            "tags": []
          },
          "execution_count": 16
        }
      ]
    },
    {
      "cell_type": "markdown",
      "metadata": {
        "id": "cUMJuUzTLgaw",
        "colab_type": "text"
      },
      "source": [
        "An important thing to note is that the year of death is not data that is available to us in this problem. Indeed, the train period stops in 1959, meaning that all we observe is who is still alive by that time. We can already see why this would be an issue: from this table, two actors (Gary Cooper and Clark Gable) died in the early 60's, which \"unexpectedly\" reduced the number of movies they did in this decade. \n",
        "\n",
        "Let us have a closer look at the activity of these major stars of the 50's by plotting the number of movies they made by year."
      ]
    },
    {
      "cell_type": "code",
      "metadata": {
        "id": "geqIeJvEGUgc",
        "colab_type": "code",
        "colab": {}
      },
      "source": [
        "def plot_history_actor(ax, actor_name, max_value):\n",
        "  actor_history = movie_counts[movie_counts.primaryName == actor_name]\n",
        "  ax.bar(actor_history.startYear, actor_history.numberMovies, color = 'firebrick')\n",
        "  ax.set_xticks([i for i in range(1950,1960)])\n",
        "  ax.set_yticks(np.linspace(0,max_value,max_value+1))\n",
        "  ax.set_title(actor_name)\n",
        "  ax.set_facecolor(\"linen\")\n",
        "  ax.grid(color = 'white', linewidth = 1.5)\n",
        "  ax.set_axisbelow(True)\n",
        "\n",
        "def plot_history_actors(actors):\n",
        "  n = len(actors)\n",
        "  k = round(n/3+0.5)\n",
        "  max_value = movie_counts[movie_counts.primaryName.isin(actors)].numberMovies.max()\n",
        "  fig, axes = plt.subplots(k,3, figsize = (15,2*k))\n",
        "  for ax, actor_name in zip(axes.ravel(), actors):\n",
        "    plot_history_actor(ax, actor_name, max_value)\n",
        "  for i in range(n,k*3):\n",
        "    fig.delaxes(axes.ravel()[i])\n",
        "  fig.suptitle(\"Number of movies made each year\", y = 1.1, fontsize = 20)\n",
        "  fig.tight_layout()"
      ],
      "execution_count": 0,
      "outputs": []
    },
    {
      "cell_type": "code",
      "metadata": {
        "id": "PI-JRYtVNo9A",
        "colab_type": "code",
        "outputId": "6115afd1-ee94-4043-f763-84405c569105",
        "colab": {
          "base_uri": "https://localhost:8080/",
          "height": 495
        }
      },
      "source": [
        "plot_history_actors(actors)"
      ],
      "execution_count": 18,
      "outputs": [
        {
          "output_type": "display_data",
          "data": {
            "image/png": "[encoded data removed]",
            "text/plain": [
              "<Figure size 1080x432 with 8 Axes>"
            ]
          },
          "metadata": {
            "tags": []
          }
        }
      ]
    },
    {
      "cell_type": "markdown",
      "metadata": {
        "id": "sTNVqiVjNWUh",
        "colab_type": "text"
      },
      "source": [
        "## 4. Fitting a Poisson process"
      ]
    },
    {
      "cell_type": "markdown",
      "metadata": {
        "id": "J-yVENuyXOHA",
        "colab_type": "text"
      },
      "source": [
        "### Model setting and estimation"
      ]
    },
    {
      "cell_type": "markdown",
      "metadata": {
        "id": "HisfgfJ_N10f",
        "colab_type": "text"
      },
      "source": [
        "Our first attempt will be to fit a Poisson process to each actor's activity. From a mathematical point of view, this means we assume $N_{a,t}$, the number of movies made by actor $a$ until time $t$ follows a Poisson distribution with parameter $\\lambda_a \\times t$. In other words,\n",
        "\n",
        "$$P[N_{a,t} = n] = \\frac{(\\lambda_a t)^n}{n!} e^{-\\lambda_a t}$$\n",
        "\n",
        "The implications of this model are actually very simplistic. This means that on average, an actor $a$ will make $\\lambda_a$ movies a year. It also means that this activity rate $\\lambda_a$ is constant over time, and that the the expected number of movies in $t$ years is simply $\\lambda_a \\times t$.\n",
        "\n",
        "As a result, it is very straightforward to estimate $\\lambda_a$ for each actor using the Maximum Likelihood Estimator with $\\widehat{\\lambda_a} = \\frac{N_{a,T}}{T}$."
      ]
    },
    {
      "cell_type": "code",
      "metadata": {
        "id": "TvHtRTAWBo4C",
        "colab_type": "code",
        "outputId": "445ac302-f00e-47a2-9963-d403dd9f8143",
        "colab": {
          "base_uri": "https://localhost:8080/",
          "height": 204
        }
      },
      "source": [
        "lambda_actors = movie_counts.groupby(\"primaryName\").agg({\"numberMovies\" : \"sum\"}).reset_index()\n",
        "lambda_actors[\"lambda\"] = lambda_actors.numberMovies/(endYear - startYear)\n",
        "lambda_actors = lambda_actors.merge(actors_list, on = \"primaryName\", how = \"right\").fillna(0)\n",
        "lambda_actors[\"numberMovies\"] = lambda_actors.numberMovies.astype(int)\n",
        "\n",
        "lambda_actors[lambda_actors.primaryName.isin(actors)].head()"
      ],
      "execution_count": 19,
      "outputs": [
        {
          "output_type": "execute_result",
          "data": {
            "text/html": [
              "<div>\n",
              "<style scoped>\n",
              "    .dataframe tbody tr th:only-of-type {\n",
              "        vertical-align: middle;\n",
              "    }\n",
              "\n",
              "    .dataframe tbody tr th {\n",
              "        vertical-align: top;\n",
              "    }\n",
              "\n",
              "    .dataframe thead th {\n",
              "        text-align: right;\n",
              "    }\n",
              "</style>\n",
              "<table border=\"1\" class=\"dataframe\">\n",
              "  <thead>\n",
              "    <tr style=\"text-align: right;\">\n",
              "      <th></th>\n",
              "      <th>primaryName</th>\n",
              "      <th>numberMovies</th>\n",
              "      <th>lambda</th>\n",
              "    </tr>\n",
              "  </thead>\n",
              "  <tbody>\n",
              "    <tr>\n",
              "      <th>549</th>\n",
              "      <td>Cary Grant</td>\n",
              "      <td>13</td>\n",
              "      <td>1.3</td>\n",
              "    </tr>\n",
              "    <tr>\n",
              "      <th>636</th>\n",
              "      <td>Clark Gable</td>\n",
              "      <td>14</td>\n",
              "      <td>1.4</td>\n",
              "    </tr>\n",
              "    <tr>\n",
              "      <th>922</th>\n",
              "      <td>Elizabeth Taylor</td>\n",
              "      <td>15</td>\n",
              "      <td>1.5</td>\n",
              "    </tr>\n",
              "    <tr>\n",
              "      <th>1196</th>\n",
              "      <td>Gary Cooper</td>\n",
              "      <td>19</td>\n",
              "      <td>1.9</td>\n",
              "    </tr>\n",
              "    <tr>\n",
              "      <th>1585</th>\n",
              "      <td>Ingrid Bergman</td>\n",
              "      <td>10</td>\n",
              "      <td>1.0</td>\n",
              "    </tr>\n",
              "  </tbody>\n",
              "</table>\n",
              "</div>"
            ],
            "text/plain": [
              "           primaryName  numberMovies  lambda\n",
              "549         Cary Grant            13     1.3\n",
              "636        Clark Gable            14     1.4\n",
              "922   Elizabeth Taylor            15     1.5\n",
              "1196       Gary Cooper            19     1.9\n",
              "1585    Ingrid Bergman            10     1.0"
            ]
          },
          "metadata": {
            "tags": []
          },
          "execution_count": 19
        }
      ]
    },
    {
      "cell_type": "markdown",
      "metadata": {
        "id": "u6h3egr3XWya",
        "colab_type": "text"
      },
      "source": [
        "### Model interpretation"
      ]
    },
    {
      "cell_type": "markdown",
      "metadata": {
        "id": "Igc6z4hGTIAf",
        "colab_type": "text"
      },
      "source": [
        "The table above gives the estimated values of $\\lambda_a$ for each actor. This gives us the straightforward result: if an actor played in x movies during the train period, we can expect him or she to also play in x movies during the test period...\n",
        "\n",
        "\"All the trouble for... this? I could have guessed this on my own without a complicated Poisson process...\" Sure! \n",
        "\n",
        "However, the interesting part of the Poisson process is that it provides us with a probability distribution of the number of movies an actor will play in. In other words, we can assess the probability for each actor to play in $n$ movies, which is a much richer information than just the expected number of movies in a time period.\n",
        "\n",
        "The following plots show the probability distribution for each actor along with the expected value (the dashed black line)."
      ]
    },
    {
      "cell_type": "code",
      "metadata": {
        "id": "jbWvBAedFZL5",
        "colab_type": "code",
        "colab": {}
      },
      "source": [
        "def probability(lambda_param, t, k):\n",
        "  return np.exp(-lambda_param*t)*(lambda_param*t)**k/np.math.factorial(k)\n",
        "\n",
        "def plot_probability_actor(ax, actor_name, t):\n",
        "  lambda_param = lambda_actors[lambda_actors.primaryName == actor_name][\"lambda\"].iloc[0]\n",
        "  k_list = np.linspace(0,40,41)\n",
        "  probability_list = np.array([probability(lambda_param, t, k) for k in k_list])\n",
        "  ax.plot(k_list, probability_list, color = 'firebrick')\n",
        "  ax.fill_between(k_list, probability_list,  color = 'firebrick', alpha = 0.5)\n",
        "  ax.axvline(x=lambda_param*t, color = 'k', linestyle = '--')\n",
        "  ax.set_title(actor_name)\n",
        "  ax.set_facecolor(\"linen\")\n",
        "  ax.grid(color = 'white', linewidth = 1.5)\n",
        "  ax.set_axisbelow(True)\n",
        "\n",
        "def plot_probability_actors(actors, t):\n",
        "  n = len(actors)\n",
        "  k = round(n/3+0.5)\n",
        "  fig, axes = plt.subplots(k,3, figsize = (15,2*k))\n",
        "  for ax, actor_name in zip(axes.ravel(), actors):\n",
        "    plot_probability_actor(ax, actor_name, t)\n",
        "  for i in range(n,k*3):\n",
        "    fig.delaxes(axes.ravel()[i])\n",
        "  fig.suptitle(\"Fitted probability distribution for t = \" + str(t)+ \" years\", y = 1.1, fontsize = 20)\n",
        "  fig.tight_layout()"
      ],
      "execution_count": 0,
      "outputs": []
    },
    {
      "cell_type": "code",
      "metadata": {
        "id": "QJfweOKdLz_y",
        "colab_type": "code",
        "outputId": "3fe61798-4a0d-49d6-8649-284378dcf641",
        "colab": {
          "base_uri": "https://localhost:8080/",
          "height": 495
        }
      },
      "source": [
        "plot_probability_actors(actors, 10)"
      ],
      "execution_count": 21,
      "outputs": [
        {
          "output_type": "display_data",
          "data": {
            "image/png": "[encoded data removed]",
            "text/plain": [
              "<Figure size 1080x432 with 8 Axes>"
            ]
          },
          "metadata": {
            "tags": []
          }
        }
      ]
    },
    {
      "cell_type": "markdown",
      "metadata": {
        "id": "x51bPQgYV5_a",
        "colab_type": "text"
      },
      "source": [
        "More intuitively, this probability distribution can also be viewed as a cumulative distribution function:"
      ]
    },
    {
      "cell_type": "code",
      "metadata": {
        "id": "SKoRNNczk1Fa",
        "colab_type": "code",
        "colab": {}
      },
      "source": [
        "def cdf(lambda_param, t, n):\n",
        "  cdf = 0\n",
        "  for i in range(n):\n",
        "    cdf += probability(lambda_param, t, i)\n",
        "  return cdf"
      ],
      "execution_count": 0,
      "outputs": []
    },
    {
      "cell_type": "code",
      "metadata": {
        "id": "XYMM_UYIL7dX",
        "colab_type": "code",
        "colab": {}
      },
      "source": [
        "def plot_cdf_actor(ax, actor_name, t):\n",
        "  lambda_param = lambda_actors[lambda_actors.primaryName == actor_name][\"lambda\"].iloc[0]\n",
        "  n_list = np.linspace(0,40,41, dtype = int)\n",
        "  probability_list = np.array([1-cdf(lambda_param, t, n) for n in n_list])\n",
        "  ax.bar(n_list, probability_list, color = 'firebrick')\n",
        "  ax.set_yticks(np.linspace(0,1,5))\n",
        "  ax.set_title(actor_name)\n",
        "  ax.set_facecolor(\"linen\")\n",
        "  ax.grid(color = 'white', linewidth = 1.5)\n",
        "  ax.set_axisbelow(True)\n",
        "\n",
        "def plot_cdf_actors(actors, t):\n",
        "  n = len(actors)\n",
        "  k = round(n/3+0.5)\n",
        "  fig, axes = plt.subplots(k,3, figsize = (15,2*k))\n",
        "  for ax, actor_name in zip(axes.ravel(), actors):\n",
        "    plot_cdf_actor(ax, actor_name, t)\n",
        "  for i in range(n,k*3):\n",
        "    fig.delaxes(axes.ravel()[i])\n",
        "  fig.suptitle(\"Probability of appearing in more than n movies in t = \"+ str(t) +\" years\", y = 1.1, fontsize = 20)\n",
        "  fig.tight_layout()"
      ],
      "execution_count": 0,
      "outputs": []
    },
    {
      "cell_type": "code",
      "metadata": {
        "id": "d_X36Acol3B5",
        "colab_type": "code",
        "outputId": "99feffe9-48fd-4fde-de61-22d6ca6d2e78",
        "colab": {
          "base_uri": "https://localhost:8080/",
          "height": 495
        }
      },
      "source": [
        "plot_cdf_actors(actors, 10)"
      ],
      "execution_count": 24,
      "outputs": [
        {
          "output_type": "display_data",
          "data": {
            "image/png": "[encoded data removed]",
            "text/plain": [
              "<Figure size 1080x432 with 8 Axes>"
            ]
          },
          "metadata": {
            "tags": []
          }
        }
      ]
    },
    {
      "cell_type": "markdown",
      "metadata": {
        "id": "VCvaX2M0bAGx",
        "colab_type": "text"
      },
      "source": [
        "This plot tells use for instance that the probability to appear in more than 10 movies between 1960 and 1969 is roughly 55% for Lauren Bacall, 15% for Katharine Hepburn and 95% for James Stewart.\n",
        "\n",
        "Another benefit of the Poisson distribution is that it also brings interesting results for the waiting time between two movies. Indeed, with our previous notation, the waiting time for an actor $a$ follows an exponential distribution of parameter $\\lambda_a$. This tells of for instance that the average waiting time between two movies for actor $a$ is $1/\\lambda_a$."
      ]
    },
    {
      "cell_type": "code",
      "metadata": {
        "id": "aSkIwDUr7T9-",
        "colab_type": "code",
        "colab": {}
      },
      "source": [
        "def waiting_time(lambda_param, t):\n",
        "  return np.exp(-lambda_param*(t-1)) - np.exp(-lambda_param*t)"
      ],
      "execution_count": 0,
      "outputs": []
    },
    {
      "cell_type": "code",
      "metadata": {
        "id": "MZYqZ_6Gyhue",
        "colab_type": "code",
        "colab": {}
      },
      "source": [
        "def plot_waiting_time_actor(ax, actor_name):\n",
        "  lambda_param = lambda_actors[lambda_actors.primaryName == actor_name][\"lambda\"].iloc[0]\n",
        "  t_list = np.linspace(1,5,5, dtype = int)\n",
        "  waiting_time_list = np.array([waiting_time(lambda_param, t) for t in t_list])\n",
        "  x_axis = [str(t-1) + \"-\" + str(t) + \" y\" for t in t_list]\n",
        "  ax.bar(x_axis, waiting_time_list, color = 'firebrick')\n",
        "  ax.set_yticks(np.linspace(0,1,5))\n",
        "  ax.set_title(actor_name)\n",
        "  ax.set_facecolor(\"linen\")\n",
        "  ax.grid(axis = 'y', color = 'white', linewidth = 1.5)\n",
        "  ax.set_axisbelow(True)\n",
        "\n",
        "def plot_waiting_time_actors(actors):\n",
        "  n = len(actors)\n",
        "  k = round(n/3+0.5)\n",
        "  fig, axes = plt.subplots(k,3, figsize = (15,2*k))\n",
        "  for ax, actor_name in zip(axes.ravel(), actors):\n",
        "    plot_waiting_time_actor(ax, actor_name)\n",
        "  for i in range(n,k*3):\n",
        "    fig.delaxes(axes.ravel()[i])\n",
        "  fig.suptitle(\"Probability distribution of waiting time between two movies in years\", y = 1.1, fontsize = 20)\n",
        "  fig.tight_layout()"
      ],
      "execution_count": 0,
      "outputs": []
    },
    {
      "cell_type": "code",
      "metadata": {
        "id": "wfqYiQDnn8q-",
        "colab_type": "code",
        "outputId": "68a10d95-5547-4a98-841a-5e9c4fec7c95",
        "colab": {
          "base_uri": "https://localhost:8080/",
          "height": 495
        }
      },
      "source": [
        "plot_waiting_time_actors(actors)"
      ],
      "execution_count": 27,
      "outputs": [
        {
          "output_type": "display_data",
          "data": {
            "image/png": "[encoded data removed]",
            "text/plain": [
              "<Figure size 1080x432 with 8 Axes>"
            ]
          },
          "metadata": {
            "tags": []
          }
        }
      ]
    },
    {
      "cell_type": "markdown",
      "metadata": {
        "id": "4TGEwMkkfmfH",
        "colab_type": "text"
      },
      "source": [
        "From the plot above, we can read that there is a 85% probability that James Stewart waits less than a year to make another movie, whereas it is only 50% for Katharine Hepburn.\n",
        "\n",
        "As we can see from this section, despite the model's simplicity, it has a lot of informative and interpretational power, which is why it is such a convenient tool for analytics. Let us now move on to actually evaluating it."
      ]
    },
    {
      "cell_type": "markdown",
      "metadata": {
        "id": "tP12_MVvggET",
        "colab_type": "text"
      },
      "source": [
        "### Model evaluation"
      ]
    },
    {
      "cell_type": "markdown",
      "metadata": {
        "id": "8kA_MVoVado6",
        "colab_type": "text"
      },
      "source": [
        "By definition, the Poisson process is unbiased. The expected number of movies for 10 years will always be equal to the number of movies in the train period. \n",
        "\n",
        "However, the main part we want to assess in this model is how well it is calibrated. If the model is well calibrated, then for any $k = 0, 1, ...$, we should have $S_{k,t} = \\sum_a P[N_{a,t} = k]$ where $S_{k,t}$ is the number of movies made by all active actors after $t$. \n",
        "\n",
        "In less mathematical terms, it means that if the model claims that for a given actor, there are x% chances to participate in k movies, it really happens with x% probability. The difficulty is that it cannot be assessed an individual level, only at an aggregate level. If most active actors have a high probability to make 0 movies in $t$ years, then we should expect a large number of actors to indeed make 0 movies in $t$ years. \n",
        "\n",
        "Let us have a look at how well the model is calibrated on the train period first."
      ]
    },
    {
      "cell_type": "code",
      "metadata": {
        "id": "JUrjS6_Krg78",
        "colab_type": "code",
        "colab": {}
      },
      "source": [
        "def compute_prediction(n,t):\n",
        "  return lambda_actors[\"lambda\"].apply(lambda x: np.exp(-x*t)*(x*t)**n/np.math.factorial(n)).sum()"
      ],
      "execution_count": 0,
      "outputs": []
    },
    {
      "cell_type": "code",
      "metadata": {
        "id": "pLwbQ7OoxxaG",
        "colab_type": "code",
        "outputId": "8c5ce0de-02cf-4c39-dde7-28669d8127ce",
        "colab": {
          "base_uri": "https://localhost:8080/",
          "height": 380
        }
      },
      "source": [
        "total_training = movie_counts.groupby('primaryName').agg({'numberMovies':'sum'}).merge(actors_list, on = \"primaryName\", how = \"right\").fillna(0).groupby(\"numberMovies\").agg({\"numberMovies\":'count'}).rename(columns = {\"numberMovies\":\"count\"}).reset_index()\n",
        "total_training = total_training.merge(pd.DataFrame({\"numberMovies\":np.arange(41)}), how = \"right\").fillna(0).sort_values(by = \"numberMovies\")\n",
        "\n",
        "t = 10\n",
        "width = 0.3\n",
        "fig, ax = plt.subplots(figsize=(10, 5))\n",
        "x_list = np.arange(41)\n",
        "prediction_list = np.array([compute_prediction(n,t) for n in x_list])\n",
        "ax.bar(x_list, prediction_list, width, label = \"predictions\")\n",
        "ax.set_title(\"Prediction of the number of movies between 1950 and 1959\", y = 1.1)\n",
        "\n",
        "ax.bar(x_list + width, total_training[\"count\"], width, label = \"observed counts\")\n",
        "\n",
        "ax.legend(loc = \"upper right\")"
      ],
      "execution_count": 29,
      "outputs": [
        {
          "output_type": "execute_result",
          "data": {
            "text/plain": [
              "<matplotlib.legend.Legend at 0x7f2afba59438>"
            ]
          },
          "metadata": {
            "tags": []
          },
          "execution_count": 29
        },
        {
          "output_type": "display_data",
          "data": {
            "image/png": "[encoded data removed]",
            "text/plain": [
              "<Figure size 720x360 with 1 Axes>"
            ]
          },
          "metadata": {
            "tags": []
          }
        }
      ]
    },
    {
      "cell_type": "markdown",
      "metadata": {
        "id": "vDfNvHTGtjb7",
        "colab_type": "text"
      },
      "source": [
        "Looking at the plot above, we can see that on the train data, the Poisson process is very well calibrated. For most number of movies, the prediction is correct. There is only a slight overestimation of the number of actors that did 0 movies, combined to an underestimation of the number of actors that did 1 movie.\n",
        "\n",
        "To assess the goodness of fit on the train period, we can use regression metrics like Mean Squared Error, Mean Absolute Error or the R2 score to measure the difference between these aggregated counts:"
      ]
    },
    {
      "cell_type": "code",
      "metadata": {
        "id": "wyC_7D7keHTC",
        "colab_type": "code",
        "outputId": "4399cdca-43be-4fae-906d-866f50c42187",
        "colab": {
          "base_uri": "https://localhost:8080/",
          "height": 102
        }
      },
      "source": [
        "mse = mean_squared_error(total_training[\"count\"], prediction_list)\n",
        "mae = mean_absolute_error(total_training[\"count\"], prediction_list)\n",
        "r2 = r2_score(total_training[\"count\"], prediction_list)\n",
        "\n",
        "print(\"Fit on the train period: \\n\")\n",
        "print(\"- Mean Squared Error: %i\" %mse)\n",
        "print(\"- Mean Absolute Error: %.1f\" %mae)\n",
        "print(\"- R2: %.2f\" %r2)"
      ],
      "execution_count": 30,
      "outputs": [
        {
          "output_type": "stream",
          "text": [
            "Fit on the train period: \n",
            "\n",
            "- Mean Squared Error: 5619\n",
            "- Mean Absolute Error: 22.8\n",
            "- R2: 0.93\n"
          ],
          "name": "stdout"
        }
      ]
    },
    {
      "cell_type": "markdown",
      "metadata": {
        "id": "vyU8R9_YgeRk",
        "colab_type": "text"
      },
      "source": [
        "Thus, the model we chose turns out to fit the train period quite well. \n",
        "\n",
        "However, when looking at the test period (the next decade), it is a totally different story, as our model grossly overestimates the number of movies made between 1960 and 1969."
      ]
    },
    {
      "cell_type": "code",
      "metadata": {
        "id": "I-N1Dr4S6Nn3",
        "colab_type": "code",
        "outputId": "e65eeccb-fdd7-4f11-c4bc-34a63976acc6",
        "colab": {
          "base_uri": "https://localhost:8080/",
          "height": 51
        }
      },
      "source": [
        "t = 10\n",
        "\n",
        "real_amount = np.sum(movie_counts_validation[\"numberMovies\"])\n",
        "print(\"Number of movies made between 1960 and 1969 in reality: %i\" % real_amount)\n",
        "\n",
        "total_prediction = np.sum(lambda_actors[\"lambda\"])*t\n",
        "print(\"Expected number of movies made between 1960 and 1969 (Poisson model): %i\" % total_prediction)"
      ],
      "execution_count": 31,
      "outputs": [
        {
          "output_type": "stream",
          "text": [
            "Number of movies made between 1960 and 1969 in reality: 17052\n",
            "Expected number of movies made between 1960 and 1969 (Poisson model): 33641\n"
          ],
          "name": "stdout"
        }
      ]
    },
    {
      "cell_type": "markdown",
      "metadata": {
        "id": "wMi7NeeFirhf",
        "colab_type": "text"
      },
      "source": [
        "What happened? Why are we suddenly overestimating by 95% the expected number of movies? \n",
        "\n",
        "The answer to this question is actually simple: the Poisson process assumes that actors will keep making movies at the same rate... forever. Remember, what we called \"active actors\" are actors that made at least a movie in 1945-1949. We learned their rate $\\lambda_a$ during 1950-1959. It is highly doubtful they would still be making movies at this rate in 1960-1969, or even just highly unlikely they would still all be active by then...\n",
        "\n",
        "Let us have a closer look at the calibration of the model for the test period:"
      ]
    },
    {
      "cell_type": "code",
      "metadata": {
        "id": "SiW5jtPIv3iq",
        "colab_type": "code",
        "outputId": "14d22717-eff3-4b5c-8ad0-74761e73c1d1",
        "colab": {
          "base_uri": "https://localhost:8080/",
          "height": 380
        }
      },
      "source": [
        "total_validation = movie_counts_validation.groupby('primaryName').agg({'numberMovies':'sum'}).merge(actors_list, on = \"primaryName\", how = \"right\").fillna(0).groupby(\"numberMovies\").agg({\"numberMovies\":'count'}).rename(columns = {\"numberMovies\":\"count\"}).reset_index()\n",
        "total_validation = total_validation.merge(pd.DataFrame({\"numberMovies\":np.arange(41)}), how = \"right\").fillna(0).sort_values(by = \"numberMovies\")\n",
        "\n",
        "width = 0.3\n",
        "fig, ax = plt.subplots(figsize=(10, 5))\n",
        "x_list = np.arange(41)\n",
        "prediction_list = np.array([compute_prediction(n,t) for n in x_list])\n",
        "ax.bar(x_list, prediction_list, width, label = \"predictions\")\n",
        "ax.set_title(\"Prediction of the number of movies between 1960 and 1969\", y = 1.1)\n",
        "\n",
        "ax.bar(x_list + width, total_validation[\"count\"], width, label = \"observed counts\")\n",
        "\n",
        "ax.legend(loc = \"upper right\")"
      ],
      "execution_count": 32,
      "outputs": [
        {
          "output_type": "execute_result",
          "data": {
            "text/plain": [
              "<matplotlib.legend.Legend at 0x7f2af7c437b8>"
            ]
          },
          "metadata": {
            "tags": []
          },
          "execution_count": 32
        },
        {
          "output_type": "display_data",
          "data": {
            "image/png": "[encoded data removed]",
            "text/plain": [
              "<Figure size 720x360 with 1 Axes>"
            ]
          },
          "metadata": {
            "tags": []
          }
        }
      ]
    },
    {
      "cell_type": "markdown",
      "metadata": {
        "id": "cTDYOwyckPCs",
        "colab_type": "text"
      },
      "source": [
        "This plot confirms what we started explaining above: more than 3000 actors made no movies at all in 1960-1969, although this only happened to less than 2000 in 1950-1959. However, this change is not captured by the Poisson process, that still predicts the same values for this decade than the previous one. \n",
        "\n",
        "As a result, all the fit metrics are much worse on the test period than on the train period:"
      ]
    },
    {
      "cell_type": "code",
      "metadata": {
        "id": "1351bXPdkHdy",
        "colab_type": "code",
        "outputId": "2dde3d5c-c5ef-44ce-9a4d-2c65dd38d2d2",
        "colab": {
          "base_uri": "https://localhost:8080/",
          "height": 102
        }
      },
      "source": [
        "mse = mean_squared_error(total_validation[\"count\"], prediction_list)\n",
        "mae = mean_absolute_error(total_validation[\"count\"], prediction_list)\n",
        "r2 = r2_score(total_validation[\"count\"], prediction_list)\n",
        "\n",
        "print(\"Fit on the test period: \\n\")\n",
        "print(\"- Mean Squared Error: %i\" %mse)\n",
        "print(\"- Mean Absolute Error: %.1f\" %mae)\n",
        "print(\"- R2: %.2f\" %r2)"
      ],
      "execution_count": 33,
      "outputs": [
        {
          "output_type": "stream",
          "text": [
            "Fit on the test period: \n",
            "\n",
            "- Mean Squared Error: 32029\n",
            "- Mean Absolute Error: 63.9\n",
            "- R2: 0.87\n"
          ],
          "name": "stdout"
        }
      ]
    },
    {
      "cell_type": "markdown",
      "metadata": {
        "id": "lgpEDoYGlYKV",
        "colab_type": "text"
      },
      "source": [
        "From this evaluation, it is clear that the Poisson process we suggested as a first approach is way too simplistic because it wrongly assumes that actors remain active forever, which leads to systematic activity overestimation. Moreover, this overestimation can only get worse with time: had we looked at 1970-1979 as a test period, it would obviously have been even more problematic.\n",
        "\n",
        "As a result, we need to correct this model by adding a dynamic component to it that would capture decrease in activity over time, which would better reflect reality."
      ]
    },
    {
      "cell_type": "markdown",
      "metadata": {
        "id": "9c7ANDA7m0Oi",
        "colab_type": "text"
      },
      "source": [
        "## 5. Fitting a Pareto/NBD model"
      ]
    },
    {
      "cell_type": "markdown",
      "metadata": {
        "id": "SzRuf2ZP2yrn",
        "colab_type": "text"
      },
      "source": [
        "### Model Specification"
      ]
    },
    {
      "cell_type": "markdown",
      "metadata": {
        "id": "iuoErhcvm7jZ",
        "colab_type": "text"
      },
      "source": [
        "A good alternative to the Poisson process is provided to us by marketing literature, as you can draw analogies between our setting and common marketing problems. \"How many movies do actors make?\" can turn into \"How many deals does this customer make with my company?\", and \"Which actor is still active?\" can translate as \"How many of my customers are still active?\" These questions were fundamental in the elaboration of the Pareto/NBD model, presented by Schmittlein et al in \"Counting your customers: who are they and what will they do next?\" (1987).\n",
        "\n",
        "The Pareto/NBD model builds on the Poisson process to add a second latent dimension: whether at time $t$, the actor is still active. That way, we do solve for the missing part observed previously, as we now allow actors to be active for a limited amount of time. In the Pareto/NBD model, we follow a two steps approach. First, is the actor still active? If yes, then we can apply the Poisson process as before. This model makes sense from an intuitive point of view, but estimating at what time an actor stops being active is difficult, as we do not observe at what point an actor effectively stops being active (unless death occurs).\n",
        "\n",
        "Mathematically speaking, this is how we formulate the setting (skip this section if you are not so keen on stats overloads):\n",
        "\n",
        "- An actor's \"lifetime\" is modeled with an exponential distribution of \"death rate\" $\\mu_a$ \n",
        "- Conditionally on being active, the actor still follows the Poisson process of rate $\\lambda_a$\n",
        "\n",
        "One of the main statistical differences between this model and the Poisson process is that we now place ourselves in the Bayesian framework and assume that all $\\mu_a$ and $\\lambda_a$ parameters also follow prior distributions:\n",
        "\n",
        "- The \"death rates\" $\\mu_a$ follow a Gamma distribution of parameters $(s,\\beta)$\n",
        "- The activity rates $\\lambda_a$ follow a Gamma distribution of parameters $(r,\\alpha)$\n",
        "- For each actor, we assume $\\mu_a$ and $\\lambda_a$ to be independent. \n",
        "\n",
        "The Exponential-Gamma model for $\\mu_a$ results in a Pareto distribution and the Poisson-Gamma model for $\\lambda_a$ in a Negative Binomial distribution, hence the name Pareto/NBD. We will not fully write out the formulas of the model here as they quickly get long, however, they are all detailed in Schmittlein et al's paper.\n",
        "\n",
        "In this setting, an actor's behavior is defined by $(\\mu_a,\\lambda_a)$, which are functions of each actor's data and prior parameters $(s,\\beta,r,\\alpha)$. Hence, we actually fully characterize our model with only 4 parameters. The main advantage of the Bayesian approach in this context is that the modeling for each actor will be impacted by the behavior of other actors. For instance, it allows us to learn from the whole panel at what rate an actor typically becomes inactive. This is critical: how else could we predict that an actor who was very active in 1950-1959 could then suddenly stop making movies somewhere in the 1960's?"
      ]
    },
    {
      "cell_type": "markdown",
      "metadata": {
        "id": "KcBH0hhY4D-0",
        "colab_type": "text"
      },
      "source": [
        "### Training the model using the \"lifetimes\" package"
      ]
    },
    {
      "cell_type": "markdown",
      "metadata": {
        "id": "7v2QoBRE4KRf",
        "colab_type": "text"
      },
      "source": [
        "Fortunately, the \"lifetimes\" package spares us the parameter estimation for this problem, which otherwise would be quite tedious. To use the package, we need to convert our data to a dataframe with 3 attributes per actor:\n",
        "\n",
        "- frequency: number of movies in 1950-1959 (train period)\n",
        "- recency: the year of the last movie\n",
        "- T: the number of years in the train period (10 in our case)\n",
        "\n",
        "To comply with the package's notation, the year last year of the train period - 1949 - represents now year 0. This is what we eventually get:"
      ]
    },
    {
      "cell_type": "code",
      "metadata": {
        "id": "i2vozvaa7aQC",
        "colab_type": "code",
        "outputId": "a32e9263-cace-491f-eb31-456e401ceacb",
        "colab": {
          "base_uri": "https://localhost:8080/",
          "height": 297
        }
      },
      "source": [
        "movie_counts_reshape = movie_counts.groupby(\"primaryName\").agg({\"numberMovies\":'sum', \"startYear\":'max'}).reset_index().rename(columns = {\"startYear\":\"recency\",\"numberMovies\":\"frequency\"})\n",
        "movie_counts_reshape = movie_counts_reshape.merge(actors_list, on = \"primaryName\", how = \"right\")\n",
        "movie_counts_reshape[\"recency\"] = movie_counts_reshape.recency - startYear + 1\n",
        "movie_counts_reshape.fillna(0, inplace = True)\n",
        "movie_counts_reshape[\"T\"] = endYear-startYear\n",
        "movie_counts_reshape[movie_counts_reshape.primaryName.isin(actors)]"
      ],
      "execution_count": 34,
      "outputs": [
        {
          "output_type": "execute_result",
          "data": {
            "text/html": [
              "<div>\n",
              "<style scoped>\n",
              "    .dataframe tbody tr th:only-of-type {\n",
              "        vertical-align: middle;\n",
              "    }\n",
              "\n",
              "    .dataframe tbody tr th {\n",
              "        vertical-align: top;\n",
              "    }\n",
              "\n",
              "    .dataframe thead th {\n",
              "        text-align: right;\n",
              "    }\n",
              "</style>\n",
              "<table border=\"1\" class=\"dataframe\">\n",
              "  <thead>\n",
              "    <tr style=\"text-align: right;\">\n",
              "      <th></th>\n",
              "      <th>primaryName</th>\n",
              "      <th>frequency</th>\n",
              "      <th>recency</th>\n",
              "      <th>T</th>\n",
              "    </tr>\n",
              "  </thead>\n",
              "  <tbody>\n",
              "    <tr>\n",
              "      <th>549</th>\n",
              "      <td>Cary Grant</td>\n",
              "      <td>13.0</td>\n",
              "      <td>10.0</td>\n",
              "      <td>10</td>\n",
              "    </tr>\n",
              "    <tr>\n",
              "      <th>636</th>\n",
              "      <td>Clark Gable</td>\n",
              "      <td>14.0</td>\n",
              "      <td>10.0</td>\n",
              "      <td>10</td>\n",
              "    </tr>\n",
              "    <tr>\n",
              "      <th>922</th>\n",
              "      <td>Elizabeth Taylor</td>\n",
              "      <td>15.0</td>\n",
              "      <td>10.0</td>\n",
              "      <td>10</td>\n",
              "    </tr>\n",
              "    <tr>\n",
              "      <th>1196</th>\n",
              "      <td>Gary Cooper</td>\n",
              "      <td>19.0</td>\n",
              "      <td>10.0</td>\n",
              "      <td>10</td>\n",
              "    </tr>\n",
              "    <tr>\n",
              "      <th>1585</th>\n",
              "      <td>Ingrid Bergman</td>\n",
              "      <td>10.0</td>\n",
              "      <td>9.0</td>\n",
              "      <td>10</td>\n",
              "    </tr>\n",
              "    <tr>\n",
              "      <th>1680</th>\n",
              "      <td>James Stewart</td>\n",
              "      <td>22.0</td>\n",
              "      <td>10.0</td>\n",
              "      <td>10</td>\n",
              "    </tr>\n",
              "    <tr>\n",
              "      <th>2046</th>\n",
              "      <td>Katharine Hepburn</td>\n",
              "      <td>7.0</td>\n",
              "      <td>10.0</td>\n",
              "      <td>10</td>\n",
              "    </tr>\n",
              "    <tr>\n",
              "      <th>2174</th>\n",
              "      <td>Lauren Bacall</td>\n",
              "      <td>10.0</td>\n",
              "      <td>10.0</td>\n",
              "      <td>10</td>\n",
              "    </tr>\n",
              "  </tbody>\n",
              "</table>\n",
              "</div>"
            ],
            "text/plain": [
              "            primaryName  frequency  recency   T\n",
              "549          Cary Grant       13.0     10.0  10\n",
              "636         Clark Gable       14.0     10.0  10\n",
              "922    Elizabeth Taylor       15.0     10.0  10\n",
              "1196        Gary Cooper       19.0     10.0  10\n",
              "1585     Ingrid Bergman       10.0      9.0  10\n",
              "1680      James Stewart       22.0     10.0  10\n",
              "2046  Katharine Hepburn        7.0     10.0  10\n",
              "2174      Lauren Bacall       10.0     10.0  10"
            ]
          },
          "metadata": {
            "tags": []
          },
          "execution_count": 34
        }
      ]
    },
    {
      "cell_type": "markdown",
      "metadata": {
        "id": "BGRWl0lJ6ikT",
        "colab_type": "text"
      },
      "source": [
        "With this dataframe in hand, all we need to do is to pass it to the ParetoNBDFitter."
      ]
    },
    {
      "cell_type": "code",
      "metadata": {
        "id": "fr2nBhP2GTEu",
        "colab_type": "code",
        "outputId": "88a7937b-4922-49dc-d192-e32fc52aba66",
        "colab": {
          "base_uri": "https://localhost:8080/",
          "height": 34
        }
      },
      "source": [
        "pnbd = ParetoNBDFitter(penalizer_coef=0.1)\n",
        "pnbd.fit(movie_counts_reshape['frequency'], movie_counts_reshape['recency'], movie_counts_reshape['T'])"
      ],
      "execution_count": 35,
      "outputs": [
        {
          "output_type": "execute_result",
          "data": {
            "text/plain": [
              "<lifetimes.ParetoNBDFitter: fitted with 5667 subjects, alpha: 0.77, beta: 36.95, r: 0.52, s: 1.17>"
            ]
          },
          "metadata": {
            "tags": []
          },
          "execution_count": 35
        }
      ]
    },
    {
      "cell_type": "code",
      "metadata": {
        "id": "a2N1j5ipKpO6",
        "colab_type": "code",
        "outputId": "65a6e2d5-0ab5-47ee-9ff0-05965a019386",
        "colab": {
          "base_uri": "https://localhost:8080/",
          "height": 136
        }
      },
      "source": [
        "print(\"Parameter estimation of the Pareto/NBD model: \\n\")\n",
        "print(pnbd.params_)"
      ],
      "execution_count": 36,
      "outputs": [
        {
          "output_type": "stream",
          "text": [
            "Parameter estimation of the Pareto/NBD model: \n",
            "\n",
            "r         0.516350\n",
            "alpha     0.772120\n",
            "s         1.166879\n",
            "beta     36.951631\n",
            "dtype: float64\n"
          ],
          "name": "stdout"
        }
      ]
    },
    {
      "cell_type": "markdown",
      "metadata": {
        "id": "m0UiafIn8DnT",
        "colab_type": "text"
      },
      "source": [
        "### Model Interpretation"
      ]
    },
    {
      "cell_type": "markdown",
      "metadata": {
        "id": "aZQXHIYfaItP",
        "colab_type": "text"
      },
      "source": [
        "Let us first have a look at the four parameters estimated above: $(r, \\alpha, s, \\beta)$. These parameters allow us to specify the two gamma distributions (priors) from which all the $\\lambda_a$ and $\\mu_a$ values are drawn."
      ]
    },
    {
      "cell_type": "code",
      "metadata": {
        "id": "fKR641LqaX5A",
        "colab_type": "code",
        "outputId": "f6d038f1-c520-4213-d390-31470f2126a0",
        "colab": {
          "base_uri": "https://localhost:8080/",
          "height": 368
        }
      },
      "source": [
        "lambda_x_list = x = np.linspace(gamma.ppf(0.05, a = pnbd.params_['r'], scale = 1/pnbd.params_['alpha']), \n",
        "                                gamma.ppf(0.95, a = pnbd.params_['r'], scale = 1/pnbd.params_['alpha']), 1000)\n",
        "mu_x_list = x = np.linspace(gamma.ppf(0.01, a = pnbd.params_['s'], scale = 1/pnbd.params_['beta']), \n",
        "                                gamma.ppf(0.99, a = pnbd.params_['s'], scale = 1/pnbd.params_['beta']), 1000)\n",
        "lambda_y_list = gamma.pdf(lambda_x_list, a = pnbd.params_['r'], scale = 1/pnbd.params_['alpha'])\n",
        "mu_y_list = gamma.pdf(mu_x_list, a = pnbd.params_['s'], scale = 1/pnbd.params_['beta'])\n",
        "\n",
        "fig, axes = plt.subplots(1,2, figsize = (10,5))\n",
        "axes[0].plot(lambda_x_list, lambda_y_list)\n",
        "axes[0].set_title(\"Probability distribution of the \\n lambda parameters\")\n",
        "axes[1].plot(mu_x_list, mu_y_list)\n",
        "axes[1].set_title(\"Probability distribution of the \\n mu parameters\")"
      ],
      "execution_count": 73,
      "outputs": [
        {
          "output_type": "execute_result",
          "data": {
            "text/plain": [
              "Text(0.5, 1.0, 'Probability distribution of the \\n mu parameters')"
            ]
          },
          "metadata": {
            "tags": []
          },
          "execution_count": 73
        },
        {
          "output_type": "display_data",
          "data": {
            "image/png": "[encoded data removed]",
            "text/plain": [
              "<Figure size 720x360 with 2 Axes>"
            ]
          },
          "metadata": {
            "tags": []
          }
        }
      ]
    },
    {
      "cell_type": "code",
      "metadata": {
        "id": "Fzw6CNW6sXPH",
        "colab_type": "code",
        "outputId": "4c4a89ba-86c2-4e52-cd19-43523efb019c",
        "colab": {
          "base_uri": "https://localhost:8080/",
          "height": 51
        }
      },
      "source": [
        "mean_lambda_a = pnbd.params_['r']/pnbd.params_['alpha']\n",
        "mean_mu_a = pnbd.params_['s']/pnbd.params_['beta']\n",
        "print(\"Among all actors, the mean 'activity rate' lambda_a is: %.2f\" % mean_lambda_a)\n",
        "print(\"Among all actors, the mean 'death rate' mu_a is: %.2f\" % mean_mu_a)"
      ],
      "execution_count": 74,
      "outputs": [
        {
          "output_type": "stream",
          "text": [
            "Among all actors, the mean 'activity rate' lambda_a is: 0.67\n",
            "Among all actors, the mean 'death rate' mu_a is: 0.03\n"
          ],
          "name": "stdout"
        }
      ]
    },
    {
      "cell_type": "markdown",
      "metadata": {
        "id": "jO57bvLjWi0J",
        "colab_type": "text"
      },
      "source": [
        "As you can tell from these two distribution plots, the $\\mu_a$ parameters are very concentrated around the mode at $0.01$. The $\\lambda_a$ parameters, on the other hand, are drawn from a gamma distribution that allows a wider range of values. In other words, the Pareto/NBD model suggests that while actors might differ a lot in terms of movie frequency, they are very similar in the way they end their career. \n",
        "\n",
        "The very different shapes of the two distribution plots illustrate why the Gamma distribution is such a popular choice for priors in Bayesian analysis, as it allows to fit very data sets of very different shapes."
      ]
    },
    {
      "cell_type": "markdown",
      "metadata": {
        "id": "RQfof7tYfahf",
        "colab_type": "text"
      },
      "source": [
        "Let us now have a closer look at the probability to be active, which is the key feature of the Pareto/NBD model compared to the more naive Poisson model. The implications of this model is that the longer it has been since an actor made his or her last movie, the more likely it is that the actor now is inactive."
      ]
    },
    {
      "cell_type": "code",
      "metadata": {
        "id": "jYsTMfi8XCBO",
        "colab_type": "code",
        "colab": {}
      },
      "source": [
        "def plot_p_alive_actor(ax, actor_name):\n",
        "  history_actor = movie_counts[movie_counts.primaryName == actor_name]\n",
        "  history_actor.startYear = pd.to_datetime(history_actor.startYear, format='%Y')\n",
        "  plot_history_alive(pnbd, t_future, history_actor, 'startYear', freq = 'Y', ax = ax)\n",
        "  ax.set_title(actor_name)\n",
        "  ax.legend(loc = 'lower left', labels = ['P_alive','movies'])\n",
        "\n",
        "def plot_p_alive_actors(actors):\n",
        "  n = len(actors)\n",
        "  k = round(n/3+0.5)\n",
        "  fig, axes = plt.subplots(k,3, figsize = (15,2*k))\n",
        "  for ax, actor_name in zip(axes.ravel(), actors):\n",
        "    plt.sca(ax)\n",
        "    plot_p_alive_actor(ax, actor_name)\n",
        "  for i in range(n,k*3):\n",
        "    fig.delaxes(axes.ravel()[i])\n",
        "  fig.suptitle(\"Probability of being active during the training period\", y = 1.1, fontsize = 20)\n",
        "  fig.tight_layout()"
      ],
      "execution_count": 0,
      "outputs": []
    },
    {
      "cell_type": "code",
      "metadata": {
        "id": "hTDEz184YezQ",
        "colab_type": "code",
        "outputId": "dfa3be08-5347-4dd3-b065-987eed84c1e8",
        "colab": {
          "base_uri": "https://localhost:8080/",
          "height": 495
        }
      },
      "source": [
        "plot_p_alive_actors(actors)"
      ],
      "execution_count": 84,
      "outputs": [
        {
          "output_type": "display_data",
          "data": {
            "image/png": "[encoded data removed]",
            "text/plain": [
              "<Figure size 1080x432 with 8 Axes>"
            ]
          },
          "metadata": {
            "tags": []
          }
        }
      ]
    },
    {
      "cell_type": "markdown",
      "metadata": {
        "id": "06Bv6cUxmtSM",
        "colab_type": "text"
      },
      "source": [
        "In the Pareto/NBD model, an actor's probability to be still active is mainly driven by the recency of the last movie. However, it is also connected to the actor's frequency. This twofold dependency can be visualized in the heatmap below. For instance, observing the last movie in the train period was in 1957 (year 8 in the model) will not mean that much if the actor used to make very little movies before that and that we observed several such gaps before. On the other hand, if an actor used to make a lot of movies in the past but suddenly stopped in 1957, it is much more likely that this is because it stopped active. This explains the characteristic shape of the heatmap."
      ]
    },
    {
      "cell_type": "code",
      "metadata": {
        "id": "xr9Ne6n5Fo7a",
        "colab_type": "code",
        "outputId": "bdaa7133-b138-4a55-904c-46bb91592492",
        "colab": {
          "base_uri": "https://localhost:8080/",
          "height": 327
        }
      },
      "source": [
        "plot_probability_alive_matrix(pnbd)\n",
        "plt.title(\"Probability Actor is Alive, \\n by Frequency and Recency of the movies\")\n",
        "plt.xlabel(\"Actor's Historical Frequency\")\n",
        "plt.ylabel(\"Actor's Recency\")"
      ],
      "execution_count": 98,
      "outputs": [
        {
          "output_type": "execute_result",
          "data": {
            "text/plain": [
              "Text(0, 0.5, \"Actor's Recency\")"
            ]
          },
          "metadata": {
            "tags": []
          },
          "execution_count": 98
        },
        {
          "output_type": "display_data",
          "data": {
            "image/png": "[encoded data removed]",
            "text/plain": [
              "<Figure size 432x288 with 2 Axes>"
            ]
          },
          "metadata": {
            "tags": []
          }
        }
      ]
    },
    {
      "cell_type": "markdown",
      "metadata": {
        "id": "ji7exdyRrYVh",
        "colab_type": "text"
      },
      "source": [
        "In the Pareto/NBD model, there are two aspects that determine how active actors will be in the future: the number of movies made during the train period and the recency of the last movie. This can be illustrated by some of the plots below."
      ]
    },
    {
      "cell_type": "code",
      "metadata": {
        "id": "Zm-GPmSYFZcS",
        "colab_type": "code",
        "outputId": "3f2d0d58-21ad-4c50-a94d-04660f9ac977",
        "colab": {
          "base_uri": "https://localhost:8080/",
          "height": 327
        }
      },
      "source": [
        "plot_frequency_recency_matrix(pnbd)"
      ],
      "execution_count": 39,
      "outputs": [
        {
          "output_type": "execute_result",
          "data": {
            "text/plain": [
              "<matplotlib.axes._subplots.AxesSubplot at 0x7f2af7b834a8>"
            ]
          },
          "metadata": {
            "tags": []
          },
          "execution_count": 39
        },
        {
          "output_type": "display_data",
          "data": {
            "image/png": "[encoded data removed]",
            "text/plain": [
              "<Figure size 432x288 with 2 Axes>"
            ]
          },
          "metadata": {
            "tags": []
          }
        }
      ]
    },
    {
      "cell_type": "code",
      "metadata": {
        "id": "iO8QHKz8c7c7",
        "colab_type": "code",
        "outputId": "21cc9907-8262-4591-83f1-5890a62be59f",
        "colab": {
          "base_uri": "https://localhost:8080/",
          "height": 204
        }
      },
      "source": [
        "t_future = 10\n",
        "movie_counts_reshape['predicted_purchases'] = pnbd.conditional_expected_number_of_purchases_up_to_time(t_future, movie_counts_reshape['frequency'], movie_counts_reshape['recency'], movie_counts_reshape['T'])\n",
        "movie_counts_reshape.sort_values(by='predicted_purchases').tail(5)"
      ],
      "execution_count": 41,
      "outputs": [
        {
          "output_type": "execute_result",
          "data": {
            "text/html": [
              "<div>\n",
              "<style scoped>\n",
              "    .dataframe tbody tr th:only-of-type {\n",
              "        vertical-align: middle;\n",
              "    }\n",
              "\n",
              "    .dataframe tbody tr th {\n",
              "        vertical-align: top;\n",
              "    }\n",
              "\n",
              "    .dataframe thead th {\n",
              "        text-align: right;\n",
              "    }\n",
              "</style>\n",
              "<table border=\"1\" class=\"dataframe\">\n",
              "  <thead>\n",
              "    <tr style=\"text-align: right;\">\n",
              "      <th></th>\n",
              "      <th>primaryName</th>\n",
              "      <th>frequency</th>\n",
              "      <th>recency</th>\n",
              "      <th>T</th>\n",
              "      <th>predicted_purchases</th>\n",
              "    </tr>\n",
              "  </thead>\n",
              "  <tbody>\n",
              "    <tr>\n",
              "      <th>597</th>\n",
              "      <td>Chhabi Biswas</td>\n",
              "      <td>76.0</td>\n",
              "      <td>10.0</td>\n",
              "      <td>10</td>\n",
              "      <td>63.368418</td>\n",
              "    </tr>\n",
              "    <tr>\n",
              "      <th>200</th>\n",
              "      <td>Anjali Devi</td>\n",
              "      <td>77.0</td>\n",
              "      <td>10.0</td>\n",
              "      <td>10</td>\n",
              "      <td>64.196586</td>\n",
              "    </tr>\n",
              "    <tr>\n",
              "      <th>1619</th>\n",
              "      <td>Ismail Yassin</td>\n",
              "      <td>77.0</td>\n",
              "      <td>10.0</td>\n",
              "      <td>10</td>\n",
              "      <td>64.196586</td>\n",
              "    </tr>\n",
              "    <tr>\n",
              "      <th>3445</th>\n",
              "      <td>Shyama</td>\n",
              "      <td>81.0</td>\n",
              "      <td>10.0</td>\n",
              "      <td>10</td>\n",
              "      <td>67.509260</td>\n",
              "    </tr>\n",
              "    <tr>\n",
              "      <th>2811</th>\n",
              "      <td>Nirupa Roy</td>\n",
              "      <td>98.0</td>\n",
              "      <td>10.0</td>\n",
              "      <td>10</td>\n",
              "      <td>81.588121</td>\n",
              "    </tr>\n",
              "  </tbody>\n",
              "</table>\n",
              "</div>"
            ],
            "text/plain": [
              "        primaryName  frequency  recency   T  predicted_purchases\n",
              "597   Chhabi Biswas       76.0     10.0  10            63.368418\n",
              "200     Anjali Devi       77.0     10.0  10            64.196586\n",
              "1619  Ismail Yassin       77.0     10.0  10            64.196586\n",
              "3445         Shyama       81.0     10.0  10            67.509260\n",
              "2811     Nirupa Roy       98.0     10.0  10            81.588121"
            ]
          },
          "metadata": {
            "tags": []
          },
          "execution_count": 41
        }
      ]
    },
    {
      "cell_type": "code",
      "metadata": {
        "id": "6h0c_OjNdwvE",
        "colab_type": "code",
        "outputId": "e7aac509-5561-403c-c803-7db7dc0ee46d",
        "colab": {
          "base_uri": "https://localhost:8080/",
          "height": 80
        }
      },
      "source": [
        "individual = movie_counts_reshape[movie_counts_reshape.primaryName == \"Cary Grant\"]\n",
        "individual"
      ],
      "execution_count": 42,
      "outputs": [
        {
          "output_type": "execute_result",
          "data": {
            "text/html": [
              "<div>\n",
              "<style scoped>\n",
              "    .dataframe tbody tr th:only-of-type {\n",
              "        vertical-align: middle;\n",
              "    }\n",
              "\n",
              "    .dataframe tbody tr th {\n",
              "        vertical-align: top;\n",
              "    }\n",
              "\n",
              "    .dataframe thead th {\n",
              "        text-align: right;\n",
              "    }\n",
              "</style>\n",
              "<table border=\"1\" class=\"dataframe\">\n",
              "  <thead>\n",
              "    <tr style=\"text-align: right;\">\n",
              "      <th></th>\n",
              "      <th>primaryName</th>\n",
              "      <th>frequency</th>\n",
              "      <th>recency</th>\n",
              "      <th>T</th>\n",
              "      <th>predicted_purchases</th>\n",
              "    </tr>\n",
              "  </thead>\n",
              "  <tbody>\n",
              "    <tr>\n",
              "      <th>549</th>\n",
              "      <td>Cary Grant</td>\n",
              "      <td>13.0</td>\n",
              "      <td>10.0</td>\n",
              "      <td>10</td>\n",
              "      <td>11.193813</td>\n",
              "    </tr>\n",
              "  </tbody>\n",
              "</table>\n",
              "</div>"
            ],
            "text/plain": [
              "    primaryName  frequency  recency   T  predicted_purchases\n",
              "549  Cary Grant       13.0     10.0  10            11.193813"
            ]
          },
          "metadata": {
            "tags": []
          },
          "execution_count": 42
        }
      ]
    },
    {
      "cell_type": "code",
      "metadata": {
        "id": "RUcZJkfzTLLO",
        "colab_type": "code",
        "outputId": "cfeeb381-f277-46fc-c4d8-2f7847635058",
        "colab": {
          "base_uri": "https://localhost:8080/",
          "height": 119
        }
      },
      "source": [
        "pnbd.conditional_probability_of_n_purchases_up_to_time(0, t_future, movie_counts_reshape['frequency'], movie_counts_reshape['recency'], movie_counts_reshape['T'])[:5]"
      ],
      "execution_count": 43,
      "outputs": [
        {
          "output_type": "execute_result",
          "data": {
            "text/plain": [
              "0    0.255304\n",
              "1    0.036024\n",
              "2    0.830972\n",
              "3    0.069472\n",
              "4    0.007231\n",
              "dtype: float64"
            ]
          },
          "metadata": {
            "tags": []
          },
          "execution_count": 43
        }
      ]
    },
    {
      "cell_type": "code",
      "metadata": {
        "id": "9bL2VM6aKIH5",
        "colab_type": "code",
        "outputId": "d4837ac4-6ea5-419e-c8d1-43a03c5301df",
        "colab": {
          "base_uri": "https://localhost:8080/",
          "height": 297
        }
      },
      "source": [
        "movie_counts[movie_counts.primaryName == \"Cary Grant\"]"
      ],
      "execution_count": 44,
      "outputs": [
        {
          "output_type": "execute_result",
          "data": {
            "text/html": [
              "<div>\n",
              "<style scoped>\n",
              "    .dataframe tbody tr th:only-of-type {\n",
              "        vertical-align: middle;\n",
              "    }\n",
              "\n",
              "    .dataframe tbody tr th {\n",
              "        vertical-align: top;\n",
              "    }\n",
              "\n",
              "    .dataframe thead th {\n",
              "        text-align: right;\n",
              "    }\n",
              "</style>\n",
              "<table border=\"1\" class=\"dataframe\">\n",
              "  <thead>\n",
              "    <tr style=\"text-align: right;\">\n",
              "      <th></th>\n",
              "      <th>primaryName</th>\n",
              "      <th>startYear</th>\n",
              "      <th>numberMovies</th>\n",
              "    </tr>\n",
              "  </thead>\n",
              "  <tbody>\n",
              "    <tr>\n",
              "      <th>2310</th>\n",
              "      <td>Cary Grant</td>\n",
              "      <td>1950</td>\n",
              "      <td>1</td>\n",
              "    </tr>\n",
              "    <tr>\n",
              "      <th>2311</th>\n",
              "      <td>Cary Grant</td>\n",
              "      <td>1951</td>\n",
              "      <td>1</td>\n",
              "    </tr>\n",
              "    <tr>\n",
              "      <th>2312</th>\n",
              "      <td>Cary Grant</td>\n",
              "      <td>1952</td>\n",
              "      <td>2</td>\n",
              "    </tr>\n",
              "    <tr>\n",
              "      <th>2313</th>\n",
              "      <td>Cary Grant</td>\n",
              "      <td>1953</td>\n",
              "      <td>1</td>\n",
              "    </tr>\n",
              "    <tr>\n",
              "      <th>2314</th>\n",
              "      <td>Cary Grant</td>\n",
              "      <td>1955</td>\n",
              "      <td>1</td>\n",
              "    </tr>\n",
              "    <tr>\n",
              "      <th>2315</th>\n",
              "      <td>Cary Grant</td>\n",
              "      <td>1957</td>\n",
              "      <td>3</td>\n",
              "    </tr>\n",
              "    <tr>\n",
              "      <th>2316</th>\n",
              "      <td>Cary Grant</td>\n",
              "      <td>1958</td>\n",
              "      <td>2</td>\n",
              "    </tr>\n",
              "    <tr>\n",
              "      <th>2317</th>\n",
              "      <td>Cary Grant</td>\n",
              "      <td>1959</td>\n",
              "      <td>2</td>\n",
              "    </tr>\n",
              "  </tbody>\n",
              "</table>\n",
              "</div>"
            ],
            "text/plain": [
              "     primaryName  startYear  numberMovies\n",
              "2310  Cary Grant       1950             1\n",
              "2311  Cary Grant       1951             1\n",
              "2312  Cary Grant       1952             2\n",
              "2313  Cary Grant       1953             1\n",
              "2314  Cary Grant       1955             1\n",
              "2315  Cary Grant       1957             3\n",
              "2316  Cary Grant       1958             2\n",
              "2317  Cary Grant       1959             2"
            ]
          },
          "metadata": {
            "tags": []
          },
          "execution_count": 44
        }
      ]
    },
    {
      "cell_type": "code",
      "metadata": {
        "id": "GfaMfRsKZeGU",
        "colab_type": "code",
        "outputId": "6a6a674c-0084-4a1b-8d23-c8f3e972af60",
        "colab": {
          "base_uri": "https://localhost:8080/",
          "height": 204
        }
      },
      "source": [
        "active_actors_list.head()"
      ],
      "execution_count": 47,
      "outputs": [
        {
          "output_type": "execute_result",
          "data": {
            "text/html": [
              "<div>\n",
              "<style scoped>\n",
              "    .dataframe tbody tr th:only-of-type {\n",
              "        vertical-align: middle;\n",
              "    }\n",
              "\n",
              "    .dataframe tbody tr th {\n",
              "        vertical-align: top;\n",
              "    }\n",
              "\n",
              "    .dataframe thead th {\n",
              "        text-align: right;\n",
              "    }\n",
              "</style>\n",
              "<table border=\"1\" class=\"dataframe\">\n",
              "  <thead>\n",
              "    <tr style=\"text-align: right;\">\n",
              "      <th></th>\n",
              "      <th>primaryName</th>\n",
              "      <th>startYear</th>\n",
              "    </tr>\n",
              "  </thead>\n",
              "  <tbody>\n",
              "    <tr>\n",
              "      <th>0</th>\n",
              "      <td>'Ducky' Louie</td>\n",
              "      <td>1947</td>\n",
              "    </tr>\n",
              "    <tr>\n",
              "      <th>6</th>\n",
              "      <td>A.E. Matthews</td>\n",
              "      <td>1949</td>\n",
              "    </tr>\n",
              "    <tr>\n",
              "      <th>12</th>\n",
              "      <td>Aage Fønss</td>\n",
              "      <td>1949</td>\n",
              "    </tr>\n",
              "    <tr>\n",
              "      <th>17</th>\n",
              "      <td>Aarne Laine</td>\n",
              "      <td>1949</td>\n",
              "    </tr>\n",
              "    <tr>\n",
              "      <th>29</th>\n",
              "      <td>Abbas Fares</td>\n",
              "      <td>1946</td>\n",
              "    </tr>\n",
              "  </tbody>\n",
              "</table>\n",
              "</div>"
            ],
            "text/plain": [
              "      primaryName  startYear\n",
              "0   'Ducky' Louie       1947\n",
              "6   A.E. Matthews       1949\n",
              "12     Aage Fønss       1949\n",
              "17    Aarne Laine       1949\n",
              "29    Abbas Fares       1946"
            ]
          },
          "metadata": {
            "tags": []
          },
          "execution_count": 47
        }
      ]
    },
    {
      "cell_type": "code",
      "metadata": {
        "id": "1_ELJpwSikiJ",
        "colab_type": "code",
        "outputId": "e575959d-bb2b-4092-dcf0-6eecee33fa4b",
        "colab": {
          "base_uri": "https://localhost:8080/",
          "height": 380
        }
      },
      "source": [
        "width = 0.3\n",
        "fig, ax = plt.subplots(figsize=(10, 5))\n",
        "x_list = np.arange(41)\n",
        "prediction_list = np.array([pnbd.conditional_probability_of_n_purchases_up_to_time(n, t_future, movie_counts_reshape['frequency'], \n",
        "                                                     movie_counts_reshape['recency'], movie_counts_reshape['T']).sum() for n in x_list])\n",
        "ax.bar(x_list, prediction_list, width, label = \"predictions\")\n",
        "ax.set_title(\"Prediction of the number of movies between 1960 and 1969\", y = 1.1)\n",
        "\n",
        "ax.bar(x_list + width, total_validation[\"count\"], width, label = \"observed counts\")\n",
        "\n",
        "ax.legend(loc = \"upper right\")"
      ],
      "execution_count": 48,
      "outputs": [
        {
          "output_type": "execute_result",
          "data": {
            "text/plain": [
              "<matplotlib.legend.Legend at 0x7f2af7a6cac8>"
            ]
          },
          "metadata": {
            "tags": []
          },
          "execution_count": 48
        },
        {
          "output_type": "display_data",
          "data": {
            "image/png": "[encoded data removed]",
            "text/plain": [
              "<Figure size 720x360 with 1 Axes>"
            ]
          },
          "metadata": {
            "tags": []
          }
        }
      ]
    },
    {
      "cell_type": "code",
      "metadata": {
        "id": "4xRXWeYM7ku7",
        "colab_type": "code",
        "outputId": "d92386ae-d773-4ce5-a0ff-a06845ac48c2",
        "colab": {
          "base_uri": "https://localhost:8080/",
          "height": 34
        }
      },
      "source": [
        "from sklearn.metrics import mean_squared_error, mean_absolute_error, r2_score\n",
        "mean_squared_error(total_validation[\"count\"], prediction_list),mean_absolute_error(total_validation[\"count\"], prediction_list),r2_score(total_validation[\"count\"], prediction_list)"
      ],
      "execution_count": 49,
      "outputs": [
        {
          "output_type": "execute_result",
          "data": {
            "text/plain": [
              "(8107.416778997207, 35.53056280748924, 0.9669119036225987)"
            ]
          },
          "metadata": {
            "tags": []
          },
          "execution_count": 49
        }
      ]
    },
    {
      "cell_type": "code",
      "metadata": {
        "id": "FBgrofH5RQR5",
        "colab_type": "code",
        "colab": {}
      },
      "source": [
        ""
      ],
      "execution_count": 0,
      "outputs": []
    }
  ]
}